{
 "cells": [
  {
   "cell_type": "markdown",
   "metadata": {},
   "source": [
    "#### ex. 1"
   ]
  },
  {
   "cell_type": "code",
   "execution_count": 36,
   "metadata": {},
   "outputs": [],
   "source": [
    "class Complex:\n",
    "\n",
    "    def __init__(self, r, c):\n",
    "        self.r = r\n",
    "        self.c = c\n",
    "\n",
    "    def __str__(self):\n",
    "        if self.c >=0:  \n",
    "            return str(self.r) + \"+\" + str(self.c) + \"i\"\n",
    "        else:\n",
    "            return str(self.r) + str(self.c) + \"i\"\n",
    "\n",
    "    def __eq__(self, other):\n",
    "        return self.r == other.r and self.c == other.c\n",
    "\n",
    "    def __add__(self, other):\n",
    "        r = self.r + other.r\n",
    "        c = self.c + other.c\n",
    "        return Complex(r, c)\n",
    "\n",
    "    def __sub__(self, other):\n",
    "        r = self.r - other.r\n",
    "        c = self.c - other.c\n",
    "        return Complex(r, c)\n",
    "\n",
    "    def __mul__(self, other):\n",
    "        r = self.r*other.r - self.c*other.c\n",
    "        c = self.c*other.r + self.r*other.c\n",
    "        return Complex(r, c)\n",
    "\n",
    "    def __truediv__(self, other):\n",
    "        r = (self.r*other.r + self.c*other.c) / (other.r**2 + other.c**2)\n",
    "        c = (self.c*other.r - self.r*other.c) / (other.r**2 + other.c**2)\n",
    "        return Complex(r, c)"
   ]
  },
  {
   "cell_type": "code",
   "execution_count": 37,
   "metadata": {},
   "outputs": [
    {
     "name": "stdout",
     "output_type": "stream",
     "text": [
      "False\n",
      "(2+4i) + (-2+3i) = 0+7i\n",
      "(2+4i) - (-2+3i) = 4+1i\n",
      "(2+4i) * (-2+3i) = -16-2i\n",
      "(2+4i) / (-2+3i) = 0.6153846153846154-1.0769230769230769i\n"
     ]
    }
   ],
   "source": [
    "a = Complex(2, 4)\n",
    "b = Complex(-2, 3)\n",
    "\n",
    "print(a == b)\n",
    "\n",
    "c = a + b\n",
    "print(\"(\" + str(a) + \") + (\" + str(b)  + \")\" + \" = \" + str(c))\n",
    "\n",
    "d = a - b\n",
    "print(\"(\" + str(a) + \") - (\" + str(b)  + \")\" + \" = \" + str(d))\n",
    "\n",
    "e = a * b\n",
    "print(\"(\" + str(a) + \") * (\" + str(b)  + \")\" + \" = \" + str(e))\n",
    "\n",
    "f = a / b\n",
    "print(\"(\" + str(a) + \") / (\" + str(b)  + \")\" + \" = \" + str(f))"
   ]
  }
 ],
 "metadata": {
  "kernelspec": {
   "display_name": "Python 3.10.6 64-bit",
   "language": "python",
   "name": "python3"
  },
  "language_info": {
   "codemirror_mode": {
    "name": "ipython",
    "version": 3
   },
   "file_extension": ".py",
   "mimetype": "text/x-python",
   "name": "python",
   "nbconvert_exporter": "python",
   "pygments_lexer": "ipython3",
   "version": "3.10.6 (main, Nov 14 2022, 16:10:14) [GCC 11.3.0]"
  },
  "orig_nbformat": 4,
  "vscode": {
   "interpreter": {
    "hash": "31f2aee4e71d21fbe5cf8b01ff0e069b9275f58929596ceb00d14d90e3e16cd6"
   }
  }
 },
 "nbformat": 4,
 "nbformat_minor": 2
}
