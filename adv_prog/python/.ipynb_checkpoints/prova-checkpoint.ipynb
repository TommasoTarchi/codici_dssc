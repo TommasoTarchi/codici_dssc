{
 "cells": [
  {
   "cell_type": "raw",
   "id": "086247b0-4a3b-4f86-b165-e44ea3f471a3",
   "metadata": {},
   "source": [
    "commento"
   ]
  },
  {
   "cell_type": "code",
   "execution_count": 1,
   "id": "78b74ae4-3410-4d80-8765-63b29fd6d633",
   "metadata": {},
   "outputs": [
    {
     "name": "stdout",
     "output_type": "stream",
     "text": [
      "<class 'str'>\n",
      "<class 'str'>\n"
     ]
    }
   ],
   "source": [
    "a = \"ahah\"\n",
    "b = 'gddj'\n",
    "\n",
    "print(type(a))\n",
    "print(type(b))"
   ]
  },
  {
   "cell_type": "code",
   "execution_count": 19,
   "id": "b76092ea-b2dd-4988-994d-7f13f10b7537",
   "metadata": {},
   "outputs": [
    {
     "name": "stdout",
     "output_type": "stream",
     "text": [
      "140221873408496\n",
      "140221873408368\n",
      "140221873408496\n",
      "False\n",
      "True\n",
      "7\n",
      "3\n",
      "7\n"
     ]
    }
   ],
   "source": [
    "a = 3\n",
    "b = 3\n",
    "a = c\n",
    "\n",
    "print(id(a))\n",
    "print(id(b))\n",
    "print(id(c))\n",
    "\n",
    "print(a is b)\n",
    "print(a is c)\n",
    "\n",
    "print(a)\n",
    "print(b)\n",
    "print(c)"
   ]
  },
  {
   "cell_type": "code",
   "execution_count": null,
   "id": "ebd44702-d343-4cd1-bb31-aaeba402c315",
   "metadata": {},
   "outputs": [
    {
     "data": {
      "text/plain": [
       "['__add__',\n",
       " '__class__',\n",
       " '__class_getitem__',\n",
       " '__contains__',\n",
       " '__delattr__',\n",
       " '__delitem__',\n",
       " '__dir__',\n",
       " '__doc__',\n",
       " '__eq__',\n",
       " '__format__',\n",
       " '__ge__',\n",
       " '__getattribute__',\n",
       " '__getitem__',\n",
       " '__gt__',\n",
       " '__hash__',\n",
       " '__iadd__',\n",
       " '__imul__',\n",
       " '__init__',\n",
       " '__init_subclass__',\n",
       " '__iter__',\n",
       " '__le__',\n",
       " '__len__',\n",
       " '__lt__',\n",
       " '__mul__',\n",
       " '__ne__',\n",
       " '__new__',\n",
       " '__reduce__',\n",
       " '__reduce_ex__',\n",
       " '__repr__',\n",
       " '__reversed__',\n",
       " '__rmul__',\n",
       " '__setattr__',\n",
       " '__setitem__',\n",
       " '__sizeof__',\n",
       " '__str__',\n",
       " '__subclasshook__',\n",
       " 'append',\n",
       " 'clear',\n",
       " 'copy',\n",
       " 'count',\n",
       " 'extend',\n",
       " 'index',\n",
       " 'insert',\n",
       " 'pop',\n",
       " 'remove',\n",
       " 'reverse',\n",
       " 'sort']"
      ]
     },
     "execution_count": 25,
     "metadata": {},
     "output_type": "execute_result"
    }
   ],
   "source": [
    "dir(list)"
   ]
  },
  {
   "cell_type": "code",
   "execution_count": null,
   "id": "0f63f811-e515-4ddf-ac28-f5124e0975fc",
   "metadata": {},
   "outputs": [],
   "source": [
    "dir(int)"
   ]
  },
  {
   "cell_type": "code",
   "execution_count": null,
   "id": "24399257-a86c-437a-91d9-d65fc8c7bdfa",
   "metadata": {},
   "outputs": [],
   "source": [
    "n = 2\n",
    "\n",
    "print(n.imag)"
   ]
  },
  {
   "cell_type": "code",
   "execution_count": null,
   "id": "12e99085-56be-436e-a63a-791fcc72f574",
   "metadata": {},
   "outputs": [],
   "source": [
    "def func(n):\n",
    "    return lambda a : a * n\n",
    "\n",
    "print(type(func(3)))"
   ]
  },
  {
   "cell_type": "code",
   "execution_count": null,
   "id": "f3556654-ca08-4d0e-8df7-196c2b25c0d1",
   "metadata": {},
   "outputs": [],
   "source": [
    "func(3)(2)"
   ]
  },
  {
   "cell_type": "code",
   "execution_count": null,
   "id": "bb78ba2e-cad8-41d4-b898-67d63f05fde8",
   "metadata": {},
   "outputs": [],
   "source": [
    "def f(x):\n",
    "    x = x+1\n",
    "\n",
    "a = 3\n",
    "f(a)\n",
    "print(a)"
   ]
  },
  {
   "cell_type": "code",
   "execution_count": null,
   "id": "37237f3b-067f-4e28-982c-723b9b3e51c1",
   "metadata": {},
   "outputs": [],
   "source": [
    "s = \"ciao\"\n",
    "print(s[len(s)-1:0:-1])"
   ]
  },
  {
   "cell_type": "code",
   "execution_count": null,
   "id": "4202100a-a86b-4a88-acd9-262a551e1889",
   "metadata": {},
   "outputs": [],
   "source": []
  }
 ],
 "metadata": {
  "kernelspec": {
   "display_name": "Python 3",
   "language": "python",
   "name": "python3"
  },
  "language_info": {
   "codemirror_mode": {
    "name": "ipython",
    "version": 3
   },
   "file_extension": ".py",
   "mimetype": "text/x-python",
   "name": "python",
   "nbconvert_exporter": "python",
   "pygments_lexer": "ipython3",
   "version": "3.9.12"
  }
 },
 "nbformat": 4,
 "nbformat_minor": 5
}
