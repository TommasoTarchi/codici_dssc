{
 "cells": [
  {
   "cell_type": "markdown",
   "metadata": {},
   "source": [
    "#### defining classes"
   ]
  },
  {
   "cell_type": "code",
   "execution_count": 2,
   "metadata": {},
   "outputs": [],
   "source": [
    "class MyClass:\n",
    "    \"\"\"MyClass documentation\"\"\"\n",
    "\n",
    "    # metodo speciale che funziona in modo simile ad un costruttore in c++\n",
    "    # viene chiamato solo dopo che l'istanza è stata creata (infatti gli si passa l'argomento\n",
    "    # self)\n",
    "    def __init__(self, stuff):\n",
    "        self.stuff = stuff\n",
    "\n",
    "    var = 20\n",
    "\n",
    "    # parametro self obbligatorio per OGNI metodo della classe\n",
    "    def print(self):\n",
    "        print(\"ciao dalla classe\")\n",
    "    \n",
    "    def print_var(self):   # non pythonic, evitare\n",
    "        print(self.var)\n",
    "        print(self.stuff)"
   ]
  },
  {
   "cell_type": "code",
   "execution_count": 3,
   "metadata": {},
   "outputs": [
    {
     "name": "stdout",
     "output_type": "stream",
     "text": [
      "77\n",
      "20\n",
      "ciao dalla classe\n",
      "20\n",
      "77\n",
      "variabile cambiata a stringa\n",
      "pure questa a stringa\n",
      "Help on class MyClass in module __main__:\n",
      "\n",
      "class MyClass(builtins.object)\n",
      " |  MyClass(stuff)\n",
      " |  \n",
      " |  MyClass documentation\n",
      " |  \n",
      " |  Methods defined here:\n",
      " |  \n",
      " |  __init__(self, stuff)\n",
      " |      Initialize self.  See help(type(self)) for accurate signature.\n",
      " |  \n",
      " |  print(self)\n",
      " |      # parametro self obbligatorio per OGNI metodo della classe\n",
      " |  \n",
      " |  print_var(self)\n",
      " |  \n",
      " |  ----------------------------------------------------------------------\n",
      " |  Data descriptors defined here:\n",
      " |  \n",
      " |  __dict__\n",
      " |      dictionary for instance variables (if defined)\n",
      " |  \n",
      " |  __weakref__\n",
      " |      list of weak references to the object (if defined)\n",
      " |  \n",
      " |  ----------------------------------------------------------------------\n",
      " |  Data and other attributes defined here:\n",
      " |  \n",
      " |  var = 20\n",
      "\n",
      "None\n"
     ]
    }
   ],
   "source": [
    "roba = MyClass(77)\n",
    "\n",
    "print(roba.stuff)\n",
    "print(roba.var)\n",
    "roba.print()\n",
    "roba.print_var()\n",
    "roba.var = \"variabile cambiata a stringa\"\n",
    "roba.stuff = \"pure questa a stringa\"\n",
    "roba.print_var()\n",
    "print(help(MyClass))"
   ]
  },
  {
   "cell_type": "code",
   "execution_count": 20,
   "metadata": {},
   "outputs": [
    {
     "name": "stdout",
     "output_type": "stream",
     "text": [
      "1\n"
     ]
    }
   ],
   "source": [
    "# NON fare mai la seguente cosa\n",
    "\n",
    "roba.new_var = 1\n",
    "print(roba.new_var)\n",
    "\n",
    "# stare attenti a scrivere bene il nome della variabli degli oggetti"
   ]
  },
  {
   "cell_type": "code",
   "execution_count": 21,
   "metadata": {},
   "outputs": [
    {
     "name": "stdout",
     "output_type": "stream",
     "text": [
      "<__main__.MyClass object at 0x7f18e6dc7e50>\n",
      "<__main__.MyClass object at 0x7f18e6dc7e50>\n",
      "volano cambiaho\n"
     ]
    }
   ],
   "source": [
    "roba2 = roba\n",
    "\n",
    "# no copia, ma alias\n",
    "print(roba)\n",
    "print(roba2)\n",
    "roba2.stuff = \"volano cambiaho\"\n",
    "print(roba2.stuff)"
   ]
  },
  {
   "cell_type": "markdown",
   "metadata": {},
   "source": [
    "#### variabile self"
   ]
  },
  {
   "cell_type": "code",
   "execution_count": 22,
   "metadata": {},
   "outputs": [],
   "source": [
    "class MySecond:\n",
    "\n",
    "    def __init__(self, var1, var2):\n",
    "        self.var1 = var1\n",
    "        self.var2 = var2\n",
    "\n",
    "    # metodo speciale che ritorna OBBLIGATORIAMENTE una stringa quando si tenta di stampare\n",
    "    # un'istanza della classe (senza questo metodo viene stampato l'indirizzo dell'oggetto)\n",
    "    def __str__(self):\n",
    "        return \"var1: \" + str(self.var1) + \", var2: \" + str(self.var2)"
   ]
  },
  {
   "cell_type": "code",
   "execution_count": 23,
   "metadata": {},
   "outputs": [
    {
     "name": "stdout",
     "output_type": "stream",
     "text": [
      "var1: 30, var2: 40\n"
     ]
    }
   ],
   "source": [
    "robetta = MySecond(30, 40)\n",
    "print(robetta)"
   ]
  },
  {
   "cell_type": "code",
   "execution_count": 24,
   "metadata": {},
   "outputs": [],
   "source": [
    "class Ogg_1:\n",
    "    \n",
    "    def __init__(self, navar):\n",
    "        self.navar = navar\n",
    "        print(\"oggetto \" + str(self) + \" creato\")\n",
    "\n",
    "\n",
    "class Ogg_2:\n",
    "\n",
    "    def __init__(self, navar):\n",
    "        self.navar = navar\n",
    "        print(\"oggetto \" + str(self) + \" creato\")\n",
    "\n",
    "    def __str__(self):\n",
    "        return \"pippo\""
   ]
  },
  {
   "cell_type": "code",
   "execution_count": 25,
   "metadata": {},
   "outputs": [
    {
     "name": "stdout",
     "output_type": "stream",
     "text": [
      "oggetto <__main__.Ogg_1 object at 0x7f18e6b10700> creato\n",
      "oggetto pippo creato\n",
      "<__main__.Ogg_1 object at 0x7f18e6b10700>\n",
      "pippo\n"
     ]
    }
   ],
   "source": [
    "robetta_1 = Ogg_1(10)\n",
    "robetta_2 = Ogg_2(20)\n",
    "\n",
    "print(robetta_1)\n",
    "print(robetta_2)"
   ]
  },
  {
   "cell_type": "markdown",
   "metadata": {},
   "source": [
    "#### redefining operators"
   ]
  },
  {
   "cell_type": "markdown",
   "metadata": {},
   "source": [
    "per esempio ridefiniamo l'addizione"
   ]
  },
  {
   "cell_type": "code",
   "execution_count": 5,
   "metadata": {},
   "outputs": [],
   "source": [
    "class Addendo:\n",
    "\n",
    "    def __init__(self, num, string):\n",
    "        self.num = num\n",
    "        self.string = string\n",
    "\n",
    "    # metodo speciale per ridefinire l'addizione\n",
    "    def __add__(self, altro):\n",
    "        num = self.num + altro.num\n",
    "        string = self.string + altro.string\n",
    "        print(\"somma fatta\")\n",
    "        return Addendo(num, string)\n",
    "\n",
    "    # commenting the following method, we can see from the output of the cell\n",
    "    # below that the sum creates a brand new object\n",
    "    def __str__ (self):\n",
    "        return self.string + \" \" + str(self.num)"
   ]
  },
  {
   "cell_type": "code",
   "execution_count": 8,
   "metadata": {},
   "outputs": [
    {
     "name": "stdout",
     "output_type": "stream",
     "text": [
      "<__main__.Addendo object at 0x7f93605c9600>\n",
      "<__main__.Addendo object at 0x7f93605c9a20>\n",
      "somma fatta\n",
      "<__main__.Addendo object at 0x7f93605c8ac0>\n"
     ]
    }
   ],
   "source": [
    "add1 = Addendo(20, \"hello \")\n",
    "add2 = Addendo(35, \"world!\")\n",
    "\n",
    "print(add1)\n",
    "print(add2)\n",
    "\n",
    "print(add1+add2)"
   ]
  },
  {
   "cell_type": "markdown",
   "metadata": {},
   "source": [
    "#### private variables\n",
    "posso usare la seguente sintassi con _ e il decoratore speciale @property per ottenere variabili costanti (sono comunque accessibili, non come in c++); posso comunque modificarle usando prependendo _ alla variabile property. E' quasi più un discorso di forma (così l'utente del codice capisce che il programmatore non vuole che quelle variabili siano modificate)"
   ]
  },
  {
   "cell_type": "code",
   "execution_count": 28,
   "metadata": {},
   "outputs": [],
   "source": [
    "class Coords:\n",
    "\n",
    "    def __init__(self, x, y):\n",
    "        self._x = x\n",
    "        self._y = y\n",
    "\n",
    "    @property\n",
    "    def x(self):\n",
    "        return self._x\n",
    "\n",
    "    @property\n",
    "    def y(self):\n",
    "        return self._y"
   ]
  },
  {
   "cell_type": "code",
   "execution_count": 29,
   "metadata": {},
   "outputs": [
    {
     "name": "stdout",
     "output_type": "stream",
     "text": [
      "3\n",
      "2\n"
     ]
    }
   ],
   "source": [
    "c = Coords(3, 4)\n",
    "\n",
    "# c.x = 2    # dà errore\n",
    "print(c.x)\n",
    "\n",
    "c._x = 2\n",
    "print(c.x)"
   ]
  },
  {
   "cell_type": "markdown",
   "metadata": {},
   "source": [
    "Python doesn't really have private/public access modifiers like c++, but the API behaviour can be imitated (we need it to separate API from the implementation, not for security in this case)"
   ]
  },
  {
   "cell_type": "code",
   "execution_count": 30,
   "metadata": {},
   "outputs": [],
   "source": [
    "class Coords2:\n",
    "    def __init__(self, x, y):\n",
    "        self._x = x\n",
    "        self._y = y\n",
    "\n",
    "    @property\n",
    "    def x(self):\n",
    "        return self._x\n",
    "\n",
    "    @property\n",
    "    def y(self):\n",
    "        return self._y\n",
    "\n",
    "    @x.setter\n",
    "    def x(self, value):\n",
    "        self._x = value"
   ]
  }
 ],
 "metadata": {
  "kernelspec": {
   "display_name": "Python 3.10.6 64-bit",
   "language": "python",
   "name": "python3"
  },
  "language_info": {
   "codemirror_mode": {
    "name": "ipython",
    "version": 3
   },
   "file_extension": ".py",
   "mimetype": "text/x-python",
   "name": "python",
   "nbconvert_exporter": "python",
   "pygments_lexer": "ipython3",
   "version": "3.10.6"
  },
  "orig_nbformat": 4,
  "vscode": {
   "interpreter": {
    "hash": "31f2aee4e71d21fbe5cf8b01ff0e069b9275f58929596ceb00d14d90e3e16cd6"
   }
  }
 },
 "nbformat": 4,
 "nbformat_minor": 2
}
