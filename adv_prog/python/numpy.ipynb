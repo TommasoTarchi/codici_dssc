{
 "cells": [
  {
   "cell_type": "code",
   "execution_count": 1,
   "metadata": {},
   "outputs": [],
   "source": [
    "import numpy as np"
   ]
  },
  {
   "cell_type": "code",
   "execution_count": 2,
   "metadata": {},
   "outputs": [
    {
     "name": "stdout",
     "output_type": "stream",
     "text": [
      "[1 2 3 4 5 6 7 8]\n"
     ]
    }
   ],
   "source": [
    "arr1 = np.array([1,2,3,4])\n",
    "arr2 = np.array([5,6,7,8])\n",
    "print(np.concatenate([arr1,arr2]))"
   ]
  },
  {
   "cell_type": "code",
   "execution_count": 3,
   "metadata": {},
   "outputs": [
    {
     "name": "stdout",
     "output_type": "stream",
     "text": [
      "[[1 2]\n",
      " [3 4]\n",
      " [5 6]\n",
      " [7 8]]\n",
      "[[1 2 5 6]\n",
      " [3 4 7 8]]\n"
     ]
    }
   ],
   "source": [
    "A = arr1.reshape(2,2)\n",
    "B = arr2.reshape(2,2)\n",
    "print(np.concatenate([A,B]))\n",
    "print(np.concatenate([A,B],axis=1))"
   ]
  },
  {
   "cell_type": "code",
   "execution_count": 4,
   "metadata": {},
   "outputs": [
    {
     "name": "stdout",
     "output_type": "stream",
     "text": [
      "[1 2 3] (3,)\n",
      "[[4 5 6]\n",
      " [7 8 9]] (2, 3)\n",
      "[[1 2 3]\n",
      " [4 5 6]\n",
      " [7 8 9]]\n",
      "[[1 4 7]\n",
      " [2 5 8]\n",
      " [3 6 9]]\n"
     ]
    }
   ],
   "source": [
    "vect1 = np.array([1,2,3])\n",
    "vect2 = np.array([[4,5,6],[7,8,9]])\n",
    "print(vect1,np.shape(vect1))\n",
    "print(vect2,np.shape(vect2))\n",
    "print(np.vstack([vect1,vect2]))\n",
    "print(np.hstack([vect1.reshape(3,1),vect2.T]))"
   ]
  },
  {
   "cell_type": "code",
   "execution_count": 5,
   "metadata": {},
   "outputs": [
    {
     "name": "stdout",
     "output_type": "stream",
     "text": [
      "[[ 0  1  2  3]\n",
      " [ 4  5  6  7]\n",
      " [ 8  9 10 11]\n",
      " [12 13 14 15]] \n",
      "\n",
      "[[ 5  6]\n",
      " [ 9 10]] \n",
      "\n",
      "[[ 2  3]\n",
      " [ 6  7]\n",
      " [10 11]] \n",
      "\n",
      "[[ 0  2]\n",
      " [ 4  6]\n",
      " [ 8 10]\n",
      " [12 14]] \n",
      "\n",
      "[[ 0  1  2  3]\n",
      " [ 8  9 10 11]] \n",
      "\n",
      "[[12 13 14 15]\n",
      " [ 8  9 10 11]\n",
      " [ 4  5  6  7]\n",
      " [ 0  1  2  3]] \n",
      "\n",
      "[[0 1 2 3]\n",
      " [4 5 6 7]] \n",
      "\n"
     ]
    }
   ],
   "source": [
    "A = np.arange(0, 16).reshape(4, 4)\n",
    "print(A, '\\n')\n",
    "\n",
    "print(A[1:3, 1:3],'\\n')\n",
    "print(A[:3, 2:],'\\n')\n",
    "print(A[:, 0:3:2],'\\n')\n",
    "print(A[::2, :], '\\n')\n",
    "print(A[::-1, :],'\\n')\n",
    "print(A[0:-2, :], '\\n')"
   ]
  },
  {
   "cell_type": "code",
   "execution_count": 5,
   "metadata": {},
   "outputs": [
    {
     "name": "stdout",
     "output_type": "stream",
     "text": [
      "<class 'numpy.ndarray'>\n",
      "[2 4 6]\n"
     ]
    }
   ],
   "source": [
    "v = np.array(['ciao', 'ccc'])\n",
    "\n",
    "print(type(v))"
   ]
  },
  {
   "cell_type": "code",
   "execution_count": 2,
   "metadata": {},
   "outputs": [
    {
     "ename": "NameError",
     "evalue": "name 'arr1' is not defined",
     "output_type": "error",
     "traceback": [
      "\u001b[0;31m---------------------------------------------------------------------------\u001b[0m",
      "\u001b[0;31mNameError\u001b[0m                                 Traceback (most recent call last)",
      "Cell \u001b[0;32mIn [2], line 1\u001b[0m\n\u001b[0;32m----> 1\u001b[0m A \u001b[39m=\u001b[39m arr1\u001b[39m.\u001b[39mreshape(\u001b[39m2\u001b[39m,\u001b[39m2\u001b[39m)\n\u001b[1;32m      2\u001b[0m B \u001b[39m=\u001b[39m arr2\u001b[39m.\u001b[39mreshape(\u001b[39m2\u001b[39m,\u001b[39m2\u001b[39m)\n\u001b[1;32m      4\u001b[0m \u001b[39mprint\u001b[39m(np\u001b[39m.\u001b[39mvstack([A, B]))\n",
      "\u001b[0;31mNameError\u001b[0m: name 'arr1' is not defined"
     ]
    }
   ],
   "source": [
    "A = arr1.reshape(2,2)\n",
    "B = arr2.reshape(2,2)\n",
    "\n",
    "print(np.vstack([A, B]))\n",
    "print(np.hstack([A, B]))"
   ]
  },
  {
   "cell_type": "markdown",
   "metadata": {},
   "source": [
    "numpy non cambia l'array data type (forza l'input nel tipo dell'array)"
   ]
  },
  {
   "cell_type": "code",
   "execution_count": 8,
   "metadata": {},
   "outputs": [
    {
     "name": "stdout",
     "output_type": "stream",
     "text": [
      "[[1 2]\n",
      " [3 7]]\n",
      "int64 \n",
      "\n",
      "[[1. 2.]\n",
      " [3. 7.]]\n",
      "float64\n"
     ]
    }
   ],
   "source": [
    "A[1, 1] = 7.92\n",
    "\n",
    "print(A)\n",
    "print(A.dtype, '\\n')\n",
    "\n",
    "C = A.astype('float')\n",
    "print(C)\n",
    "print(C.dtype)"
   ]
  },
  {
   "cell_type": "code",
   "execution_count": 12,
   "metadata": {},
   "outputs": [
    {
     "name": "stdout",
     "output_type": "stream",
     "text": [
      "[[1 2]\n",
      " [3 7]]\n",
      "[[  4.   2.]\n",
      " [  3. 111.]] \n",
      "\n",
      "[[  4.   2.]\n",
      " [  3. 111.]] \n",
      "\n",
      "[[  4.   2.]\n",
      " [  3. 111.]] \n",
      "\n"
     ]
    }
   ],
   "source": [
    "C[1, 1] = 111\n",
    "\n",
    "print(A)\n",
    "print(C, '\\n')\n",
    "\n",
    "# '=' crea una reference\n",
    "D = C\n",
    "D[0, 0] = 4\n",
    "\n",
    "print(C, '\\n')\n",
    "\n",
    "# per fare una copia devo usare copy()\n",
    "E = C.copy()\n",
    "E[0, 0] = 6\n",
    "\n",
    "print(C, '\\n')"
   ]
  },
  {
   "attachments": {},
   "cell_type": "markdown",
   "metadata": {},
   "source": [
    "argmin e argmax restituiscono gli indici e non i valori"
   ]
  },
  {
   "cell_type": "code",
   "execution_count": 16,
   "metadata": {},
   "outputs": [
    {
     "name": "stdout",
     "output_type": "stream",
     "text": [
      "[[ 0.    1.25  2.5   1.  ]\n",
      " [ 3.75  5.    6.25  2.  ]\n",
      " [ 7.5   8.75 10.    3.  ]]\n",
      "10\n",
      "0\n"
     ]
    }
   ],
   "source": [
    "Z = np.linspace(0, 10, 9).reshape(3, 3)\n",
    "Z = np.hstack([Z, np.array([[1, 2, 3]]).T])\n",
    "\n",
    "print(Z)\n",
    "\n",
    "print(np.argmax(Z))\n",
    "print(np.argmin(Z))"
   ]
  },
  {
   "cell_type": "markdown",
   "metadata": {},
   "source": [
    "%%timeit è una cell magic function di jupyter: deve sempre essere messa all'inizio di una cella"
   ]
  },
  {
   "cell_type": "code",
   "execution_count": 18,
   "metadata": {},
   "outputs": [],
   "source": [
    "A=np.array(range(0,900)).reshape(30,30)\n",
    "B=np.array(range(34,934)).reshape(30,30)"
   ]
  },
  {
   "cell_type": "code",
   "execution_count": 19,
   "metadata": {},
   "outputs": [
    {
     "name": "stdout",
     "output_type": "stream",
     "text": [
      "30.7 µs ± 1.86 µs per loop (mean ± std. dev. of 7 runs, 10,000 loops each)\n"
     ]
    }
   ],
   "source": [
    "%%timeit\n",
    "np.matmul(A,B)"
   ]
  },
  {
   "cell_type": "code",
   "execution_count": 20,
   "metadata": {},
   "outputs": [],
   "source": [
    "A=[[x for x in range(30)] for i in range(30)]\n",
    "B=[[x+34 for x in range(30)] for i in range(30)]"
   ]
  },
  {
   "cell_type": "code",
   "execution_count": 21,
   "metadata": {},
   "outputs": [
    {
     "name": "stdout",
     "output_type": "stream",
     "text": [
      "186 µs ± 12.1 µs per loop (mean ± std. dev. of 7 runs, 1,000 loops each)\n"
     ]
    }
   ],
   "source": [
    "%%timeit\n",
    "np.matmul(A,B)"
   ]
  },
  {
   "cell_type": "code",
   "execution_count": 12,
   "metadata": {},
   "outputs": [
    {
     "data": {
      "text/plain": [
       "array([[1, 2, 3],\n",
       "       [2, 3, 4]])"
      ]
     },
     "execution_count": 12,
     "metadata": {},
     "output_type": "execute_result"
    }
   ],
   "source": [
    "np.array([[1, 2, 3], [2, 3, 4]])"
   ]
  }
 ],
 "metadata": {
  "kernelspec": {
   "display_name": "Python 3.10.6 64-bit",
   "language": "python",
   "name": "python3"
  },
  "language_info": {
   "codemirror_mode": {
    "name": "ipython",
    "version": 3
   },
   "file_extension": ".py",
   "mimetype": "text/x-python",
   "name": "python",
   "nbconvert_exporter": "python",
   "pygments_lexer": "ipython3",
   "version": "3.10.6"
  },
  "orig_nbformat": 4,
  "vscode": {
   "interpreter": {
    "hash": "31f2aee4e71d21fbe5cf8b01ff0e069b9275f58929596ceb00d14d90e3e16cd6"
   }
  }
 },
 "nbformat": 4,
 "nbformat_minor": 2
}
