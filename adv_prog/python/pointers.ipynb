{
 "cells": [
  {
   "attachments": {},
   "cell_type": "markdown",
   "metadata": {},
   "source": [
    "we want to swap two int variables in the smallest time possible\n",
    "\n",
    "swap1 uses the function deepcopy(), which returns a complete copy of its argument; swap2 uses the (probably) most pythonic way; swaps3 does more or less the same thing as swap2 but more explicitly\n",
    "\n",
    "the fact that swap2 and swap3 are 10 times faster than swap1 supports the hypotesis that the assignment operator does not copy the value stored in the variable, but uses some kind of pointer: it changes the address to which the variable/label points"
   ]
  },
  {
   "cell_type": "code",
   "execution_count": null,
   "metadata": {},
   "outputs": [],
   "source": [
    "import copy"
   ]
  },
  {
   "cell_type": "code",
   "execution_count": null,
   "metadata": {},
   "outputs": [],
   "source": [
    "def swap1(x, y):\n",
    "    c = copy.deepcopy(x)\n",
    "    x = copy.deepcopy(y)\n",
    "    y = copy.deepcopy(c)\n",
    "    return x, y\n",
    "\n",
    "def swap2(x, y):\n",
    "    x, y = y, x\n",
    "    return x, y\n",
    "\n",
    "def swap3(x, y):\n",
    "    c = x\n",
    "    x = y\n",
    "    y = c\n",
    "    return x, y"
   ]
  },
  {
   "cell_type": "code",
   "execution_count": null,
   "metadata": {},
   "outputs": [],
   "source": [
    "%%timeit\n",
    "a = 1\n",
    "b = 2\n",
    "a, b = swap1(a, b)"
   ]
  },
  {
   "cell_type": "code",
   "execution_count": null,
   "metadata": {},
   "outputs": [],
   "source": [
    "%%timeit\n",
    "a = 1\n",
    "b = 2\n",
    "a, b = swap2(a, b)"
   ]
  },
  {
   "cell_type": "code",
   "execution_count": null,
   "metadata": {},
   "outputs": [],
   "source": [
    "%%timeit\n",
    "a = 1\n",
    "b = 2\n",
    "a, b = swap3(a, b)"
   ]
  },
  {
   "cell_type": "code",
   "execution_count": null,
   "metadata": {},
   "outputs": [],
   "source": [
    "# just to check that the functions work\n",
    "\n",
    "a = 1\n",
    "b = 2\n",
    "a, b = swap1(a, b)\n",
    "print(a, b)\n",
    "a, b = swap2(a, b)\n",
    "print(a, b)\n",
    "a, b = swap3(a, b)\n",
    "print(a, b)"
   ]
  }
 ],
 "metadata": {
  "kernelspec": {
   "display_name": "Python 3.10.6 64-bit",
   "language": "python",
   "name": "python3"
  },
  "language_info": {
   "codemirror_mode": {
    "name": "ipython",
    "version": 3
   },
   "file_extension": ".py",
   "mimetype": "text/x-python",
   "name": "python",
   "nbconvert_exporter": "python",
   "pygments_lexer": "ipython3",
   "version": "3.10.6 (main, Nov 14 2022, 16:10:14) [GCC 11.3.0]"
  },
  "orig_nbformat": 4,
  "vscode": {
   "interpreter": {
    "hash": "31f2aee4e71d21fbe5cf8b01ff0e069b9275f58929596ceb00d14d90e3e16cd6"
   }
  }
 },
 "nbformat": 4,
 "nbformat_minor": 2
}
