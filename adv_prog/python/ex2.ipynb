{
 "cells": [
  {
   "cell_type": "code",
   "execution_count": 2,
   "metadata": {},
   "outputs": [],
   "source": [
    "import numpy as np\n",
    "from matplotlib import pyplot as plt\n",
    "from matplotlib import animation as animation"
   ]
  },
  {
   "cell_type": "markdown",
   "metadata": {},
   "source": [
    "#### ex. 3"
   ]
  },
  {
   "cell_type": "markdown",
   "metadata": {},
   "source": [
    "implementation with list"
   ]
  },
  {
   "cell_type": "code",
   "execution_count": 3,
   "metadata": {},
   "outputs": [],
   "source": [
    "def m_mult(A, B):\n",
    "\n",
    "    assert len(A[0]) == len(B), 'ERROR: matrix dimensions not matching'\n",
    "\n",
    "    C = []\n",
    "    for k in range(len(A)):\n",
    "        C.append([])\n",
    "        for i in range(len(B[0])):\n",
    "            C[k].append(0)\n",
    "            for j in range(len(A[0])):\n",
    "                C[k][i] = C[k][i] + A[k][j]*B[j][i]\n",
    "\n",
    "    return C"
   ]
  },
  {
   "cell_type": "code",
   "execution_count": 4,
   "metadata": {},
   "outputs": [
    {
     "name": "stdout",
     "output_type": "stream",
     "text": [
      "[[1, 2, 3], [4, 5, 6], [7, 8, 9]]\n",
      "[[1, 2, 3], [4, 5, 6], [7, 8, 9]]\n"
     ]
    }
   ],
   "source": [
    "I = [[1, 0, 0], [0, 1, 0], [0, 0, 1]]\n",
    "N = [[1, 2, 3], [4, 5, 6], [7, 8, 9]]\n",
    "\n",
    "print(m_mult(I, N))\n",
    "print(m_mult(N, I))"
   ]
  },
  {
   "cell_type": "code",
   "execution_count": 5,
   "metadata": {},
   "outputs": [
    {
     "name": "stdout",
     "output_type": "stream",
     "text": [
      "[[22, 28], [49, 64], [76, 100]]\n"
     ]
    }
   ],
   "source": [
    "M = [[1, 2], [3, 4], [5, 6]]\n",
    "\n",
    "print(m_mult(N, M))\n",
    "# print(m_mult(M, N))"
   ]
  },
  {
   "cell_type": "code",
   "execution_count": 6,
   "metadata": {},
   "outputs": [
    {
     "name": "stdout",
     "output_type": "stream",
     "text": [
      "9 µs ± 62.2 ns per loop (mean ± std. dev. of 7 runs, 100,000 loops each)\n"
     ]
    }
   ],
   "source": [
    "%timeit m_mult(N, I)"
   ]
  },
  {
   "cell_type": "markdown",
   "metadata": {},
   "source": [
    "implementation with numpy"
   ]
  },
  {
   "cell_type": "code",
   "execution_count": 7,
   "metadata": {},
   "outputs": [
    {
     "name": "stdout",
     "output_type": "stream",
     "text": [
      "[[1. 2. 3.]\n",
      " [4. 5. 6.]\n",
      " [7. 8. 9.]]\n"
     ]
    }
   ],
   "source": [
    "R = np.array(list(range(1, 10))).reshape(3, 3)\n",
    "J = np.eye(3)\n",
    "\n",
    "print(np.matmul(R , J))"
   ]
  },
  {
   "cell_type": "code",
   "execution_count": 8,
   "metadata": {},
   "outputs": [
    {
     "name": "stdout",
     "output_type": "stream",
     "text": [
      "2.61 µs ± 42.3 ns per loop (mean ± std. dev. of 7 runs, 100,000 loops each)\n"
     ]
    }
   ],
   "source": [
    "%timeit np.matmul(R, J)"
   ]
  },
  {
   "cell_type": "markdown",
   "metadata": {},
   "source": [
    "#### ex. 5 (Conway's game of life)"
   ]
  },
  {
   "cell_type": "markdown",
   "metadata": {},
   "source": [
    "building the initial grid"
   ]
  },
  {
   "cell_type": "code",
   "execution_count": 3,
   "metadata": {},
   "outputs": [
    {
     "name": "stdout",
     "output_type": "stream",
     "text": [
      "[[3. 3. 3. 3. 3. 3. 3. 3. 3. 3. 3. 3. 3. 3. 3. 3. 3. 3. 3. 3. 3. 3.]\n",
      " [3. 0. 0. 1. 1. 0. 0. 0. 1. 1. 1. 0. 0. 0. 0. 1. 1. 0. 0. 0. 0. 3.]\n",
      " [3. 0. 0. 0. 0. 0. 0. 0. 1. 0. 0. 0. 1. 0. 0. 1. 0. 0. 0. 0. 0. 3.]\n",
      " [3. 0. 1. 0. 0. 1. 0. 0. 0. 0. 0. 0. 0. 1. 1. 0. 1. 0. 0. 0. 1. 3.]\n",
      " [3. 0. 0. 0. 0. 1. 0. 0. 0. 1. 0. 0. 0. 1. 0. 0. 0. 1. 0. 0. 1. 3.]\n",
      " [3. 0. 0. 0. 0. 0. 0. 0. 1. 0. 0. 0. 1. 0. 1. 0. 0. 1. 0. 1. 0. 3.]\n",
      " [3. 0. 0. 1. 0. 0. 0. 0. 1. 0. 0. 0. 0. 0. 0. 0. 0. 0. 0. 1. 0. 3.]\n",
      " [3. 0. 0. 0. 0. 1. 0. 1. 1. 1. 1. 0. 0. 1. 0. 0. 1. 0. 1. 0. 0. 3.]\n",
      " [3. 0. 0. 0. 0. 0. 0. 0. 0. 0. 0. 0. 0. 0. 0. 1. 0. 0. 0. 0. 1. 3.]\n",
      " [3. 0. 0. 0. 0. 0. 0. 0. 0. 0. 1. 0. 0. 0. 0. 1. 0. 0. 0. 0. 0. 3.]\n",
      " [3. 1. 0. 0. 0. 0. 0. 1. 0. 0. 1. 0. 0. 0. 0. 0. 1. 0. 0. 0. 0. 3.]\n",
      " [3. 1. 1. 0. 1. 0. 0. 0. 0. 0. 1. 0. 1. 0. 0. 0. 0. 0. 0. 0. 0. 3.]\n",
      " [3. 0. 1. 0. 0. 0. 0. 1. 0. 0. 0. 1. 0. 1. 1. 0. 0. 0. 0. 0. 0. 3.]\n",
      " [3. 1. 0. 0. 0. 0. 0. 0. 0. 1. 0. 0. 1. 0. 0. 0. 0. 0. 0. 0. 1. 3.]\n",
      " [3. 0. 0. 1. 0. 1. 0. 0. 1. 0. 0. 0. 0. 0. 0. 0. 0. 1. 0. 0. 0. 3.]\n",
      " [3. 0. 0. 0. 0. 0. 0. 0. 0. 0. 0. 1. 0. 0. 0. 1. 0. 0. 0. 1. 0. 3.]\n",
      " [3. 0. 0. 0. 0. 0. 1. 0. 0. 0. 1. 1. 0. 1. 1. 0. 0. 1. 0. 0. 1. 3.]\n",
      " [3. 1. 0. 0. 1. 0. 0. 0. 0. 0. 0. 0. 0. 0. 0. 0. 0. 0. 0. 1. 0. 3.]\n",
      " [3. 0. 0. 0. 0. 0. 0. 0. 0. 0. 0. 1. 0. 0. 0. 0. 0. 1. 0. 0. 0. 3.]\n",
      " [3. 0. 0. 0. 0. 0. 1. 0. 0. 0. 0. 0. 0. 0. 0. 0. 0. 0. 0. 0. 0. 3.]\n",
      " [3. 0. 0. 1. 0. 0. 0. 0. 1. 1. 0. 0. 1. 0. 0. 0. 0. 0. 1. 0. 0. 3.]\n",
      " [3. 3. 3. 3. 3. 3. 3. 3. 3. 3. 3. 3. 3. 3. 3. 3. 3. 3. 3. 3. 3. 3.]]\n"
     ]
    }
   ],
   "source": [
    "# l_grid is the square root of the size of the grid, f indicates (roughly) the fraction of initially 'alive' cells\n",
    "l_grid = 20\n",
    "f = 0.2\n",
    "\n",
    "# initializing the grid\n",
    "grid = np.zeros((l_grid+2)**2)\n",
    "\n",
    "# seeding randomly\n",
    "s_seed = int((l_grid+2)**2 * f)\n",
    "seed = np.random.choice(range((l_grid+2)**2), size = s_seed, replace = False)\n",
    "grid[seed] = 1\n",
    "\n",
    "# reshaping and adding boundaries\n",
    "grid = grid.reshape(l_grid+2, l_grid+2)\n",
    "grid[:, 0::l_grid+1] = 3\n",
    "grid[0::l_grid+1, :] = 3\n",
    "\n",
    "print(grid)"
   ]
  },
  {
   "cell_type": "markdown",
   "metadata": {},
   "source": [
    "defining the function for the iteration of the game"
   ]
  },
  {
   "cell_type": "code",
   "execution_count": 5,
   "metadata": {},
   "outputs": [],
   "source": [
    "def game(grid, l_grid, generations):\n",
    "\n",
    "    evol = []   # keeps record of the generations (only multiples of 10)\n",
    "\n",
    "    provv1 = np.zeros((l_grid+2)**2).reshape(l_grid+2, l_grid+2)\n",
    "    provv1[:, 0::l_grid+1] = 3\n",
    "    provv1[0::l_grid+1, :] = 3\n",
    "    provv2 = np.zeros((l_grid+2)**2).reshape(l_grid+2, l_grid+2)\n",
    "    provv2[:, 0::l_grid+1] = 3\n",
    "    provv2[0::l_grid+1, :] = 3\n",
    "\n",
    "    for gen in range(generations):\n",
    "\n",
    "        for i in range(1, l_grid+1):\n",
    "            for j in range(1, l_grid+1):\n",
    "                neighbors = grid[i-1:i+2, j-1:j+2]\n",
    "                n = neighbors[neighbors==1].size - grid[i, j]\n",
    "                if (grid[i, j] and n in (2, 3)) or ((not grid[i, j]) and n==3):\n",
    "                    provv1[i, j] = 1\n",
    "                else:\n",
    "                    provv1[i, j] = 0\n",
    "\n",
    "        provv1, grid = grid, provv1\n",
    "        evol.append(grid.astype(int))   # senza typecast non funziona la gif!!!\n",
    "\n",
    "    return evol"
   ]
  },
  {
   "cell_type": "markdown",
   "metadata": {},
   "source": [
    "playing"
   ]
  },
  {
   "cell_type": "code",
   "execution_count": 6,
   "metadata": {},
   "outputs": [
    {
     "name": "stderr",
     "output_type": "stream",
     "text": [
      "MovieWriter ffmpeg unavailable; using Pillow instead.\n"
     ]
    },
    {
     "data": {
      "image/png": "[encoded data removed]",
      "text/plain": [
       "<Figure size 640x480 with 1 Axes>"
      ]
     },
     "metadata": {},
     "output_type": "display_data"
    }
   ],
   "source": [
    "game_of_life = game(grid, l_grid, 50)\n",
    "\n",
    "fig = plt.figure()\n",
    "\n",
    "def animate(i):\n",
    "    plt.imshow(game_of_life[i])\n",
    "\n",
    "anim = animation.FuncAnimation(fig, animate, frames = 50, interval=300)\n",
    "\n",
    "# save the animation as an gif\n",
    "anim.save(\"game_of_life.gif\")"
   ]
  }
 ],
 "metadata": {
  "kernelspec": {
   "display_name": "Python 3.10.6 64-bit",
   "language": "python",
   "name": "python3"
  },
  "language_info": {
   "codemirror_mode": {
    "name": "ipython",
    "version": 3
   },
   "file_extension": ".py",
   "mimetype": "text/x-python",
   "name": "python",
   "nbconvert_exporter": "python",
   "pygments_lexer": "ipython3",
   "version": "3.10.6"
  },
  "orig_nbformat": 4,
  "vscode": {
   "interpreter": {
    "hash": "31f2aee4e71d21fbe5cf8b01ff0e069b9275f58929596ceb00d14d90e3e16cd6"
   }
  }
 },
 "nbformat": 4,
 "nbformat_minor": 2
}
