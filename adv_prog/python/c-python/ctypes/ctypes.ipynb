{
 "cells": [
  {
   "cell_type": "markdown",
   "metadata": {},
   "source": [
    "ctypes è un'alternativa a pybind e a cython\n",
    "\n",
    "devo scrivere la shared library e compilarla manualmente (usando come sempre 'g++ -fPIC -shared -o libblabla.so blabla.cpp') come se avessi intenzione di chiamarla da un codice c/c++; l'unica differenza è che se scrivo la libreria in c++ devo aggiungere la parola chiave 'extern \"C\"{...}' (perché ctype sarebbe fatto per leggere codice c)\n",
    "\n",
    "nel codice python devo importare il package e creare una variabile contenente il path della libreria; poi posso chiamare direttamente le funzioni della libreria usando la variabile definita"
   ]
  },
  {
   "cell_type": "code",
   "execution_count": 4,
   "metadata": {},
   "outputs": [],
   "source": [
    "import ctypes\n",
    " \n",
    "libObject = ctypes.CDLL('./libhello.so')"
   ]
  },
  {
   "cell_type": "code",
   "execution_count": 5,
   "metadata": {},
   "outputs": [
    {
     "name": "stdout",
     "output_type": "stream",
     "text": [
      "hello world!\n"
     ]
    },
    {
     "data": {
      "text/plain": [
       "1492976960"
      ]
     },
     "execution_count": 5,
     "metadata": {},
     "output_type": "execute_result"
    }
   ],
   "source": [
    "# notare l'output numerico indesiderato (di provenienza ignota)\n",
    "\n",
    "libObject.hello()"
   ]
  },
  {
   "cell_type": "code",
   "execution_count": 6,
   "metadata": {},
   "outputs": [
    {
     "data": {
      "text/plain": [
       "3"
      ]
     },
     "execution_count": 6,
     "metadata": {},
     "output_type": "execute_result"
    }
   ],
   "source": [
    "libObject.sum(1, 2)"
   ]
  },
  {
   "cell_type": "markdown",
   "metadata": {},
   "source": [
    "la funzione sum() deve indovinare il tipo, pertanto a volte potrebbe non funzionare: meglio passare anche il tipo, come nella cella sotto"
   ]
  },
  {
   "cell_type": "code",
   "execution_count": 8,
   "metadata": {},
   "outputs": [
    {
     "data": {
      "text/plain": [
       "3"
      ]
     },
     "execution_count": 8,
     "metadata": {},
     "output_type": "execute_result"
    }
   ],
   "source": [
    "libObject.sum.argtypes = [ctypes.c_int, ctypes.c_int]\n",
    "libObject.sum.restype = ctypes.c_int\n",
    "\n",
    "libObject.sum(1, 2)"
   ]
  },
  {
   "cell_type": "markdown",
   "metadata": {},
   "source": [
    "#### fare tutto dal notebook\n",
    "posso farlo usando le funzioni magiche (l'unico problema è che non ho la syntax highlight di c/c++)"
   ]
  },
  {
   "cell_type": "code",
   "execution_count": 1,
   "metadata": {},
   "outputs": [
    {
     "name": "stdout",
     "output_type": "stream",
     "text": [
      "Overwriting hello2.cpp\n"
     ]
    }
   ],
   "source": [
    "%%file hello2.cpp\n",
    "#include <iostream>\n",
    "\n",
    "\n",
    "extern \"C\"{\n",
    "\n",
    "    const int sum(const int a, const int b) {\n",
    "        return a + b;\n",
    "    }\n",
    "\n",
    "}"
   ]
  },
  {
   "cell_type": "code",
   "execution_count": 2,
   "metadata": {},
   "outputs": [],
   "source": [
    "%%bash\n",
    "g++ -fPIC -shared -o libhello2.so hello2.cpp"
   ]
  },
  {
   "cell_type": "code",
   "execution_count": 5,
   "metadata": {},
   "outputs": [
    {
     "data": {
      "text/plain": [
       "3"
      ]
     },
     "execution_count": 5,
     "metadata": {},
     "output_type": "execute_result"
    }
   ],
   "source": [
    "libObject2 = ctypes.CDLL('./libhello2.so')\n",
    "\n",
    "libObject2.sum.argtypes = [ctypes.c_int, ctypes.c_int]\n",
    "libObject2.sum.restype = ctypes.c_int\n",
    "\n",
    "libObject2.sum(1, 2)"
   ]
  },
  {
   "cell_type": "markdown",
   "metadata": {},
   "source": [
    "#### speed\n",
    "come si vede dalle celle sotto non si guadagna niente (anzi si perde) in performance riscrivendo semplicemente la stessa identica funzione in c++; il miglioramento si vede quando si inizia a sfruttare al massimo le caratteristiche di c++"
   ]
  },
  {
   "cell_type": "code",
   "execution_count": 17,
   "metadata": {},
   "outputs": [],
   "source": [
    "def sum(a, b):\n",
    "    return a + b"
   ]
  },
  {
   "cell_type": "code",
   "execution_count": 20,
   "metadata": {},
   "outputs": [
    {
     "name": "stdout",
     "output_type": "stream",
     "text": [
      "117 ns ± 3.06 ns per loop (mean ± std. dev. of 7 runs, 10,000,000 loops each)\n"
     ]
    }
   ],
   "source": [
    "%%timeit\n",
    "sum(1, 2)"
   ]
  },
  {
   "cell_type": "code",
   "execution_count": 21,
   "metadata": {},
   "outputs": [],
   "source": [
    "libObject2.sum.argtypes = [ctypes.c_int, ctypes.c_int]\n",
    "libObject2.sum.restype = ctypes.c_int"
   ]
  },
  {
   "cell_type": "code",
   "execution_count": 22,
   "metadata": {},
   "outputs": [
    {
     "name": "stdout",
     "output_type": "stream",
     "text": [
      "672 ns ± 14.8 ns per loop (mean ± std. dev. of 7 runs, 1,000,000 loops each)\n"
     ]
    }
   ],
   "source": [
    "%%timeit\n",
    "libObject2.sum(1, 2)"
   ]
  }
 ],
 "metadata": {
  "kernelspec": {
   "display_name": "Python 3.10.6 64-bit",
   "language": "python",
   "name": "python3"
  },
  "language_info": {
   "codemirror_mode": {
    "name": "ipython",
    "version": 3
   },
   "file_extension": ".py",
   "mimetype": "text/x-python",
   "name": "python",
   "nbconvert_exporter": "python",
   "pygments_lexer": "ipython3",
   "version": "3.10.6"
  },
  "orig_nbformat": 4,
  "vscode": {
   "interpreter": {
    "hash": "31f2aee4e71d21fbe5cf8b01ff0e069b9275f58929596ceb00d14d90e3e16cd6"
   }
  }
 },
 "nbformat": 4,
 "nbformat_minor": 2
}
