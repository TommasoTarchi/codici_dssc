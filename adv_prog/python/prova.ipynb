{
 "cells": [
  {
   "cell_type": "code",
   "execution_count": 10,
   "id": "a0709683",
   "metadata": {},
   "outputs": [],
   "source": [
    "import numpy as np\n",
    "import pandas as pd"
   ]
  },
  {
   "cell_type": "markdown",
   "id": "8d86dfad",
   "metadata": {},
   "source": [
    "commento"
   ]
  },
  {
   "cell_type": "code",
   "execution_count": null,
   "id": "78b74ae4-3410-4d80-8765-63b29fd6d633",
   "metadata": {},
   "outputs": [],
   "source": [
    "a = \"ahah\"\n",
    "b = 'gddj'\n",
    "\n",
    "print(type(a))\n",
    "print(type(b))"
   ]
  },
  {
   "cell_type": "code",
   "execution_count": null,
   "id": "b76092ea-b2dd-4988-994d-7f13f10b7537",
   "metadata": {},
   "outputs": [],
   "source": [
    "a = 3\n",
    "b = 3\n",
    "a = c\n",
    "\n",
    "print(id(a))\n",
    "print(id(b))\n",
    "print(id(c))\n",
    "\n",
    "print(a is b)\n",
    "print(a is c)\n",
    "\n",
    "print(a)\n",
    "print(b)\n",
    "print(c)"
   ]
  },
  {
   "cell_type": "code",
   "execution_count": null,
   "id": "ebd44702-d343-4cd1-bb31-aaeba402c315",
   "metadata": {},
   "outputs": [],
   "source": [
    "dir(list)"
   ]
  },
  {
   "cell_type": "code",
   "execution_count": null,
   "id": "0f63f811-e515-4ddf-ac28-f5124e0975fc",
   "metadata": {},
   "outputs": [],
   "source": [
    "dir(int)"
   ]
  },
  {
   "cell_type": "code",
   "execution_count": null,
   "id": "24399257-a86c-437a-91d9-d65fc8c7bdfa",
   "metadata": {},
   "outputs": [],
   "source": [
    "n = 2\n",
    "\n",
    "print(n.imag)"
   ]
  },
  {
   "cell_type": "code",
   "execution_count": null,
   "id": "12e99085-56be-436e-a63a-791fcc72f574",
   "metadata": {},
   "outputs": [],
   "source": [
    "def func(n):\n",
    "    return lambda a : a * n\n",
    "\n",
    "print(type(func(3)))"
   ]
  },
  {
   "cell_type": "code",
   "execution_count": null,
   "id": "f3556654-ca08-4d0e-8df7-196c2b25c0d1",
   "metadata": {},
   "outputs": [],
   "source": [
    "func(3)(2)"
   ]
  },
  {
   "cell_type": "code",
   "execution_count": null,
   "id": "bb78ba2e-cad8-41d4-b898-67d63f05fde8",
   "metadata": {},
   "outputs": [],
   "source": [
    "def f(x):\n",
    "    x = x+1\n",
    "\n",
    "a = 3\n",
    "f(a)\n",
    "print(a)"
   ]
  },
  {
   "cell_type": "code",
   "execution_count": null,
   "id": "37237f3b-067f-4e28-982c-723b9b3e51c1",
   "metadata": {},
   "outputs": [],
   "source": [
    "s = \"ciao\"\n",
    "print(s[len(s)-1:0:-1])"
   ]
  },
  {
   "cell_type": "code",
   "execution_count": null,
   "id": "4202100a-a86b-4a88-acd9-262a551e1889",
   "metadata": {},
   "outputs": [],
   "source": [
    "# swap di due variabili (in questo caso x e y): capire perché funziona\n",
    "# ottengo lo stesso risultato (con un'efficienza leggermente superiore) usando x, y = y, x\n",
    "\n",
    "\n",
    "x = [1, 2, 4]\n",
    "y = [4, 5, 6]\n",
    "z = [2, 5, 4]\n",
    "\n",
    "z = y\n",
    "y = x\n",
    "x = z\n",
    "\n",
    "print(x)\n",
    "print(y)\n",
    "print(z, '\\n')\n",
    "\n",
    "z = y\n",
    "y = x\n",
    "x = z\n",
    "\n",
    "print(x)\n",
    "print(y)\n",
    "print(z, '\\n')\n",
    "\n",
    "z = y\n",
    "y = x\n",
    "x = z\n",
    "\n",
    "print(x)\n",
    "print(y)\n",
    "print(z)"
   ]
  },
  {
   "cell_type": "code",
   "execution_count": null,
   "id": "f43d4ee9",
   "metadata": {},
   "outputs": [],
   "source": [
    "lll = [1, 2, 3]\n",
    "print(lll[-1])\n",
    "\n",
    "sss = set([1, 3, 2])\n",
    "print(sss)\n",
    "\n",
    "sss.add(4)\n",
    "print(sss)"
   ]
  },
  {
   "cell_type": "code",
   "execution_count": null,
   "id": "6568e928",
   "metadata": {},
   "outputs": [],
   "source": [
    "ll = [x for x in range(1, 10) if x%2==0]\n",
    "print(ll)"
   ]
  },
  {
   "cell_type": "code",
   "execution_count": null,
   "id": "14003957",
   "metadata": {},
   "outputs": [],
   "source": [
    "def hello(a, b): return a+b\n",
    "\n",
    "hello(2, 3)"
   ]
  },
  {
   "cell_type": "code",
   "execution_count": null,
   "id": "f3c6c9ec",
   "metadata": {},
   "outputs": [],
   "source": [
    "def sum(x, y):\n",
    "    return x+y\n",
    "\n",
    "def modifier(g):\n",
    "    def wrapper(*args, **kwargs):\n",
    "        return g(*args, **kwargs)+1\n",
    "    return wrapper\n",
    "\n",
    "modified_sum=modifier(sum)\n",
    "\n",
    "@modifier\n",
    "def sum2(x, y):\n",
    "    return x+y\n",
    "\n",
    "\n",
    "print(modified_sum(1, 2))\n",
    "print(sum2(1, 2))"
   ]
  },
  {
   "cell_type": "code",
   "execution_count": null,
   "id": "e2c5f109",
   "metadata": {},
   "outputs": [],
   "source": [
    "def funz(a, b):\n",
    "    return a+b, a-b, a*b\n",
    "\n",
    "print(funz(b=2, a=3))\n",
    "print(type(funz(b=2, a=3)))"
   ]
  },
  {
   "cell_type": "code",
   "execution_count": 25,
   "id": "8fa91e23",
   "metadata": {},
   "outputs": [
    {
     "name": "stdout",
     "output_type": "stream",
     "text": [
      "[[1 2]\n",
      " [3 4]]\n",
      "(2, 2)\n"
     ]
    }
   ],
   "source": [
    "arr2 = np.array([[1,2],[3,4]])\n",
    "print(arr2)\n",
    "print(arr2.shape)"
   ]
  },
  {
   "cell_type": "code",
   "execution_count": null,
   "id": "dd02faa4",
   "metadata": {},
   "outputs": [],
   "source": [
    "class naclasse:\n",
    "    def __init__(self, a, b):\n",
    "        self.a = a\n",
    "        self.b = b\n",
    "        print(\"noggeto creato\")\n",
    "\n",
    "    def __str__(self):\n",
    "        return \"pippo\"\n",
    "\n",
    "\n",
    "k = naclasse(5, \"ciao\")\n",
    "\n",
    "print(k)\n",
    "print(k.a, k.b)"
   ]
  },
  {
   "cell_type": "code",
   "execution_count": null,
   "id": "56827c25",
   "metadata": {},
   "outputs": [],
   "source": [
    "def mod(f):\n",
    "    def wrapper(*args, **kwargs):\n",
    "        print(\"prova\")\n",
    "        return f(*args, **kwargs)\n",
    "    return wrapper\n",
    "\n",
    "@mod\n",
    "def sissi(x, y):\n",
    "    print(x, y)\n",
    "\n",
    "\n",
    "sissi(\"ciao\", [1, 2, 3])"
   ]
  },
  {
   "cell_type": "code",
   "execution_count": null,
   "id": "32749447",
   "metadata": {},
   "outputs": [],
   "source": [
    "ppp = np.empty(10)\n",
    "print(ppp)"
   ]
  },
  {
   "cell_type": "code",
   "execution_count": 31,
   "id": "45d915d4",
   "metadata": {},
   "outputs": [
    {
     "name": "stdout",
     "output_type": "stream",
     "text": [
      "[[ 0.    1.25  2.5 ]\n",
      " [ 3.75  5.    6.25]\n",
      " [ 7.5   8.75 10.  ]]\n",
      "8\n"
     ]
    }
   ],
   "source": [
    "A=np.linspace(0,10,9).reshape(3,3)\n",
    "print(A)\n",
    "print(np.argmax(A))"
   ]
  },
  {
   "cell_type": "code",
   "execution_count": 32,
   "id": "f06db6b6",
   "metadata": {},
   "outputs": [],
   "source": [
    "A=np.array(range(0,900)).reshape(30,30)\n",
    "B=np.array(range(34,934)).reshape(30,30)"
   ]
  },
  {
   "cell_type": "code",
   "execution_count": 33,
   "id": "0dd5ca8c",
   "metadata": {},
   "outputs": [
    {
     "name": "stdout",
     "output_type": "stream",
     "text": [
      "29.9 µs ± 1.47 µs per loop (mean ± std. dev. of 7 runs, 10,000 loops each)\n"
     ]
    }
   ],
   "source": [
    "%%timeit\n",
    "np.matmul(A,B)"
   ]
  },
  {
   "cell_type": "code",
   "execution_count": 34,
   "id": "d557f987",
   "metadata": {},
   "outputs": [],
   "source": [
    "A=[[x for x in range(30)] for i in range(30)]\n",
    "B=[[x+34 for x in range(30)] for i in range(30)]"
   ]
  },
  {
   "cell_type": "code",
   "execution_count": 35,
   "id": "1abc41ac",
   "metadata": {},
   "outputs": [
    {
     "name": "stdout",
     "output_type": "stream",
     "text": [
      "176 µs ± 9.94 µs per loop (mean ± std. dev. of 7 runs, 10,000 loops each)\n"
     ]
    }
   ],
   "source": [
    "%%timeit\n",
    "np.matmul(A,B)"
   ]
  },
  {
   "cell_type": "code",
   "execution_count": 1,
   "id": "6bb5e1e1",
   "metadata": {},
   "outputs": [
    {
     "name": "stdout",
     "output_type": "stream",
     "text": [
      "x is greater then zero\n"
     ]
    }
   ],
   "source": [
    "x = 1\n",
    "\n",
    "if x==0:\n",
    "    print('x is zero')\n",
    "elif x>0:\n",
    "    print('x is greater then zero')\n",
    "elif x<0:\n",
    "    print('x is smaller than zero')"
   ]
  },
  {
   "cell_type": "code",
   "execution_count": 3,
   "id": "4821bb17",
   "metadata": {},
   "outputs": [],
   "source": [
    "class MySecondClass:\n",
    "    def __init__(self, number):\n",
    "        self.number = number\n",
    "\n",
    "a=MySecondClass(4)"
   ]
  },
  {
   "cell_type": "code",
   "execution_count": 5,
   "id": "b5f52978",
   "metadata": {},
   "outputs": [],
   "source": [
    "t = tuple(range(10))\n",
    "t[5]=100\n",
    "print(t[5])"
   ]
  },
  {
   "cell_type": "code",
   "execution_count": 1,
   "id": "aeab302d",
   "metadata": {},
   "outputs": [
    {
     "name": "stdout",
     "output_type": "stream",
     "text": [
      "{1: 2, 3: 4, 5: 6}\n"
     ]
    }
   ],
   "source": [
    "my_dict3 = dict([(1,2),(3,4),(5,6)])\n",
    "print(my_dict3)"
   ]
  },
  {
   "cell_type": "code",
   "execution_count": 4,
   "id": "0454e3bd",
   "metadata": {},
   "outputs": [
    {
     "data": {
      "text/plain": [
       "('Cat', 'Cat')"
      ]
     },
     "execution_count": 4,
     "metadata": {},
     "output_type": "execute_result"
    }
   ],
   "source": [
    "my_dict2 = dict(name = \"Cat\", age = 177, country = \"Neverland\")\n",
    "my_dict2.get(\"name\"), my_dict2[\"name\"]"
   ]
  },
  {
   "cell_type": "code",
   "execution_count": 8,
   "id": "73a32968",
   "metadata": {},
   "outputs": [
    {
     "data": {
      "text/plain": [
       "{'name': 'Dog', 'age': 177, 'country': 'Neverland'}"
      ]
     },
     "execution_count": 8,
     "metadata": {},
     "output_type": "execute_result"
    }
   ],
   "source": [
    "my_dict4=my_dict2\n",
    "my_dict4[\"name\"]=\"Dog\"\n",
    "my_dict2"
   ]
  },
  {
   "cell_type": "code",
   "execution_count": 16,
   "id": "633acbdc",
   "metadata": {},
   "outputs": [
    {
     "name": "stdout",
     "output_type": "stream",
     "text": [
      "key1    [888, 11]\n",
      "key2    [123, 12]\n",
      "key3    [777, 23]\n",
      "dtype: object\n"
     ]
    }
   ],
   "source": [
    "mydict = {\"key1\": [888, 11], \"key2\": [123, 12], \"key3\": [777, 23]}\n",
    "myvar = pd.Series(mydict)\n",
    "\n",
    "print(myvar)"
   ]
  },
  {
   "cell_type": "code",
   "execution_count": 15,
   "id": "62b7d868",
   "metadata": {},
   "outputs": [
    {
     "data": {
      "text/plain": [
       "dict"
      ]
     },
     "execution_count": 15,
     "metadata": {},
     "output_type": "execute_result"
    }
   ],
   "source": [
    "dit = {\"ke1\": [1, 2, 3], \"ke2\": [4, 5, 6]}\n",
    "type(dit)"
   ]
  },
  {
   "cell_type": "code",
   "execution_count": 21,
   "id": "5a173bc4",
   "metadata": {},
   "outputs": [
    {
     "data": {
      "text/html": [
       "<div>\n",
       "<style scoped>\n",
       "    .dataframe tbody tr th:only-of-type {\n",
       "        vertical-align: middle;\n",
       "    }\n",
       "\n",
       "    .dataframe tbody tr th {\n",
       "        vertical-align: top;\n",
       "    }\n",
       "\n",
       "    .dataframe thead th {\n",
       "        text-align: right;\n",
       "    }\n",
       "</style>\n",
       "<table border=\"1\" class=\"dataframe\">\n",
       "  <thead>\n",
       "    <tr style=\"text-align: right;\">\n",
       "      <th></th>\n",
       "      <th>pippo</th>\n",
       "      <th>titto</th>\n",
       "    </tr>\n",
       "  </thead>\n",
       "  <tbody>\n",
       "    <tr>\n",
       "      <th>0</th>\n",
       "      <td>1</td>\n",
       "      <td>3</td>\n",
       "    </tr>\n",
       "    <tr>\n",
       "      <th>1</th>\n",
       "      <td>2</td>\n",
       "      <td>4</td>\n",
       "    </tr>\n",
       "    <tr>\n",
       "      <th>2</th>\n",
       "      <td>3</td>\n",
       "      <td>5</td>\n",
       "    </tr>\n",
       "    <tr>\n",
       "      <th>3</th>\n",
       "      <td>4</td>\n",
       "      <td>6</td>\n",
       "    </tr>\n",
       "    <tr>\n",
       "      <th>4</th>\n",
       "      <td>5</td>\n",
       "      <td>7</td>\n",
       "    </tr>\n",
       "    <tr>\n",
       "      <th>5</th>\n",
       "      <td>6</td>\n",
       "      <td>8</td>\n",
       "    </tr>\n",
       "  </tbody>\n",
       "</table>\n",
       "</div>"
      ],
      "text/plain": [
       "   pippo  titto\n",
       "0      1      3\n",
       "1      2      4\n",
       "2      3      5\n",
       "3      4      6\n",
       "4      5      7\n",
       "5      6      8"
      ]
     },
     "execution_count": 21,
     "metadata": {},
     "output_type": "execute_result"
    }
   ],
   "source": [
    "df = pd.DataFrame({\"pippo\": [1, 2, 3, 4, 5, 6], \"titto\": [3, 4, 5, 6, 7, 8]})\n",
    "df"
   ]
  },
  {
   "cell_type": "code",
   "execution_count": 26,
   "id": "98d92156",
   "metadata": {},
   "outputs": [
    {
     "data": {
      "text/plain": [
       "(0    1\n",
       " 1    2\n",
       " 2    3\n",
       " 3    4\n",
       " 4    5\n",
       " 5    6\n",
       " Name: pippo, dtype: int64,\n",
       " '\\n ',\n",
       " pippo    2\n",
       " titto    4\n",
       " Name: 1, dtype: int64)"
      ]
     },
     "execution_count": 26,
     "metadata": {},
     "output_type": "execute_result"
    }
   ],
   "source": [
    "df[\"pippo\"],  df.iloc[1]"
   ]
  }
 ],
 "metadata": {
  "kernelspec": {
   "display_name": "Python 3.10.6 64-bit",
   "language": "python",
   "name": "python3"
  },
  "language_info": {
   "codemirror_mode": {
    "name": "ipython",
    "version": 3
   },
   "file_extension": ".py",
   "mimetype": "text/x-python",
   "name": "python",
   "nbconvert_exporter": "python",
   "pygments_lexer": "ipython3",
   "version": "3.10.6"
  },
  "vscode": {
   "interpreter": {
    "hash": "31f2aee4e71d21fbe5cf8b01ff0e069b9275f58929596ceb00d14d90e3e16cd6"
   }
  }
 },
 "nbformat": 4,
 "nbformat_minor": 5
}
