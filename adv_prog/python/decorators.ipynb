{
 "cells": [
  {
   "cell_type": "code",
   "execution_count": 4,
   "metadata": {},
   "outputs": [],
   "source": [
    "# just defining some functions\n",
    "\n",
    "def func(x):\n",
    "    return x*2\n",
    "\n",
    "def func2(x, y, roba = 0):\n",
    "    return x+y+roba"
   ]
  },
  {
   "cell_type": "markdown",
   "metadata": {},
   "source": [
    "funzione che prende un'altra funzione come argomento (non molto pythonic)"
   ]
  },
  {
   "cell_type": "code",
   "execution_count": 2,
   "metadata": {},
   "outputs": [],
   "source": [
    "def change_sign(f, x):\n",
    "    return -f(x)"
   ]
  },
  {
   "cell_type": "code",
   "execution_count": 5,
   "metadata": {},
   "outputs": [
    {
     "data": {
      "text/plain": [
       "-6"
      ]
     },
     "execution_count": 5,
     "metadata": {},
     "output_type": "execute_result"
    }
   ],
   "source": [
    "change_sign(func, 3)"
   ]
  },
  {
   "cell_type": "code",
   "execution_count": 10,
   "metadata": {},
   "outputs": [],
   "source": [
    "# change_better accetta qualunque funzione, indipendentemente dal numero di parametri\n",
    "# *args indica tutti i possibili positional arguments e **kwargs tutti i possibili keyword arguments\n",
    "# still not really pythonic\n",
    "\n",
    "def change_better(f, *args, **kwargs):\n",
    "    return -f(*args, **kwargs)"
   ]
  },
  {
   "cell_type": "code",
   "execution_count": 11,
   "metadata": {},
   "outputs": [
    {
     "name": "stdout",
     "output_type": "stream",
     "text": [
      "-6\n",
      "-7\n",
      "-8\n"
     ]
    }
   ],
   "source": [
    "print(change_better(func, 3))\n",
    "print(change_better(func2, 3, 4))\n",
    "print(change_better(func2, 3, 4, roba = 1))"
   ]
  },
  {
   "cell_type": "markdown",
   "metadata": {},
   "source": [
    "more pythonic way (return a function)"
   ]
  },
  {
   "cell_type": "code",
   "execution_count": 15,
   "metadata": {},
   "outputs": [],
   "source": [
    "def change_f(f):\n",
    "\n",
    "    def wrapper(*args, **kwargs):\n",
    "        return -f(*args, **kwargs)\n",
    "\n",
    "    return wrapper"
   ]
  },
  {
   "cell_type": "code",
   "execution_count": 18,
   "metadata": {},
   "outputs": [
    {
     "name": "stdout",
     "output_type": "stream",
     "text": [
      "-6\n",
      "-8\n"
     ]
    }
   ],
   "source": [
    "neg_func = change_f(func)\n",
    "neg_func2 = change_f(func2)\n",
    "print(neg_func(3))\n",
    "print(neg_func2(3, 4, 1))"
   ]
  },
  {
   "attachments": {},
   "cell_type": "markdown",
   "metadata": {},
   "source": [
    "per modificare 'in place' una funzione (contestualmente alla sua definizione) possiamo usare la sintassi con decoratore (@...)"
   ]
  },
  {
   "cell_type": "code",
   "execution_count": 19,
   "metadata": {},
   "outputs": [
    {
     "name": "stdout",
     "output_type": "stream",
     "text": [
      "-8\n"
     ]
    }
   ],
   "source": [
    "@change_f\n",
    "def funz3(x, y):\n",
    "    return x*y\n",
    "\n",
    "print(funz3(2, 4))"
   ]
  },
  {
   "attachments": {},
   "cell_type": "markdown",
   "metadata": {},
   "source": [
    "un modo migliore per definire una funzion di funzioni è il seguente (si usa la funzione wraps nel pacchetto functools): in questo modo quando si chiama help sulla funzione si otterrà un output sensato"
   ]
  },
  {
   "cell_type": "code",
   "execution_count": null,
   "metadata": {},
   "outputs": [],
   "source": [
    "import functools\n",
    "\n",
    "\n",
    "def change_f(f):\n",
    "\n",
    "    functools.wraps(func)\n",
    "    \n",
    "    def wrapper(*args, **kwargs):\n",
    "        return -f(*args, **kwargs)\n",
    "\n",
    "    return wrapper"
   ]
  },
  {
   "attachments": {},
   "cell_type": "markdown",
   "metadata": {},
   "source": [
    "Una cosa che si fa spesso è definire una variabile globale tale che i decoratori funzionino solo se tale variabile = True; inoltre è sempre buono aggiungere una descrizione di quanto fatto tramite il decoratore. La cella seguente è un buon esempio di decoratore"
   ]
  },
  {
   "cell_type": "code",
   "execution_count": null,
   "metadata": {},
   "outputs": [],
   "source": [
    "debug_flag = True\n",
    "\n",
    "def debug(func):\n",
    "    @functools.wraps(func)\n",
    "    def wrapper(*args, **kwargs):\n",
    "        if debug_flag:\n",
    "            arguments = [f\"{a}\" for a in args]\n",
    "            karguments = [f\"{k}={v}\" for k,v in kwargs.items()]\n",
    "            name = func.__name__\n",
    "            print(\"Calling \"+name+\" with args: \"+\", \".join(arguments)+\" and kwargs: \"+\", \".join(karguments))\n",
    "            value = func(*args, **kwargs)\n",
    "            print(\"Run function: \"+name+\", which output: \"+repr(value))\n",
    "            return value\n",
    "        else:\n",
    "            return func(*args, **kwargs)\n",
    "    return wrapper"
   ]
  }
 ],
 "metadata": {
  "kernelspec": {
   "display_name": "Python 3.10.6 64-bit",
   "language": "python",
   "name": "python3"
  },
  "language_info": {
   "codemirror_mode": {
    "name": "ipython",
    "version": 3
   },
   "file_extension": ".py",
   "mimetype": "text/x-python",
   "name": "python",
   "nbconvert_exporter": "python",
   "pygments_lexer": "ipython3",
   "version": "3.10.6"
  },
  "orig_nbformat": 4,
  "vscode": {
   "interpreter": {
    "hash": "31f2aee4e71d21fbe5cf8b01ff0e069b9275f58929596ceb00d14d90e3e16cd6"
   }
  }
 },
 "nbformat": 4,
 "nbformat_minor": 2
}
