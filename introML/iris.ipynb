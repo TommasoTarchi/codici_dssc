{
 "cells": [
  {
   "cell_type": "markdown",
   "metadata": {},
   "source": [
    "we want to understand which of the variables in iris dataset is the hardest to predict (on this specific dataset)"
   ]
  },
  {
   "cell_type": "code",
   "execution_count": 13,
   "metadata": {},
   "outputs": [],
   "source": [
    "from sklearn import tree\n",
    "from sklearn import datasets\n",
    "import pandas as pd\n",
    "import numpy as np"
   ]
  },
  {
   "cell_type": "markdown",
   "metadata": {},
   "source": [
    "getting iris dataset"
   ]
  },
  {
   "cell_type": "code",
   "execution_count": 14,
   "metadata": {},
   "outputs": [],
   "source": [
    "data = datasets.load_iris()\n",
    "feature_names = data.feature_names\n",
    "feature_values = np.matrix(data.data)"
   ]
  },
  {
   "cell_type": "markdown",
   "metadata": {},
   "source": [
    "organizing data into a dictionary (more suitable to build a dataframe) cleaning the dataset from non necessary stuff"
   ]
  },
  {
   "cell_type": "code",
   "execution_count": 15,
   "metadata": {},
   "outputs": [],
   "source": [
    "data_dic = {}\n",
    "for i in range(len(feature_names)):\n",
    "    data_dic[feature_names[i]] = feature_values[:, i].tolist()\n",
    "\n",
    "data_dic[\"species\"] = []\n",
    "for s in data[\"target\"]:\n",
    "    data_dic[\"species\"].append(data[\"target_names\"][s])"
   ]
  },
  {
   "cell_type": "markdown",
   "metadata": {},
   "source": [
    "building the pandas dataframe"
   ]
  },
  {
   "cell_type": "code",
   "execution_count": 16,
   "metadata": {},
   "outputs": [
    {
     "data": {
      "text/html": [
       "<div>\n",
       "<style scoped>\n",
       "    .dataframe tbody tr th:only-of-type {\n",
       "        vertical-align: middle;\n",
       "    }\n",
       "\n",
       "    .dataframe tbody tr th {\n",
       "        vertical-align: top;\n",
       "    }\n",
       "\n",
       "    .dataframe thead th {\n",
       "        text-align: right;\n",
       "    }\n",
       "</style>\n",
       "<table border=\"1\" class=\"dataframe\">\n",
       "  <thead>\n",
       "    <tr style=\"text-align: right;\">\n",
       "      <th></th>\n",
       "      <th>sepal length (cm)</th>\n",
       "      <th>sepal width (cm)</th>\n",
       "      <th>petal length (cm)</th>\n",
       "      <th>petal width (cm)</th>\n",
       "      <th>species</th>\n",
       "    </tr>\n",
       "  </thead>\n",
       "  <tbody>\n",
       "    <tr>\n",
       "      <th>0</th>\n",
       "      <td>[5.1]</td>\n",
       "      <td>[3.8]</td>\n",
       "      <td>[1.6]</td>\n",
       "      <td>[0.2]</td>\n",
       "      <td>setosa</td>\n",
       "    </tr>\n",
       "    <tr>\n",
       "      <th>1</th>\n",
       "      <td>[4.6]</td>\n",
       "      <td>[3.2]</td>\n",
       "      <td>[1.4]</td>\n",
       "      <td>[0.2]</td>\n",
       "      <td>setosa</td>\n",
       "    </tr>\n",
       "    <tr>\n",
       "      <th>2</th>\n",
       "      <td>[5.1]</td>\n",
       "      <td>[3.5]</td>\n",
       "      <td>[1.4]</td>\n",
       "      <td>[0.2]</td>\n",
       "      <td>setosa</td>\n",
       "    </tr>\n",
       "    <tr>\n",
       "      <th>3</th>\n",
       "      <td>[5.1]</td>\n",
       "      <td>[3.8]</td>\n",
       "      <td>[1.5]</td>\n",
       "      <td>[0.3]</td>\n",
       "      <td>setosa</td>\n",
       "    </tr>\n",
       "    <tr>\n",
       "      <th>4</th>\n",
       "      <td>[6.3]</td>\n",
       "      <td>[2.8]</td>\n",
       "      <td>[5.1]</td>\n",
       "      <td>[1.5]</td>\n",
       "      <td>virginica</td>\n",
       "    </tr>\n",
       "    <tr>\n",
       "      <th>...</th>\n",
       "      <td>...</td>\n",
       "      <td>...</td>\n",
       "      <td>...</td>\n",
       "      <td>...</td>\n",
       "      <td>...</td>\n",
       "    </tr>\n",
       "    <tr>\n",
       "      <th>145</th>\n",
       "      <td>[6.1]</td>\n",
       "      <td>[3.0]</td>\n",
       "      <td>[4.9]</td>\n",
       "      <td>[1.8]</td>\n",
       "      <td>virginica</td>\n",
       "    </tr>\n",
       "    <tr>\n",
       "      <th>146</th>\n",
       "      <td>[6.5]</td>\n",
       "      <td>[3.0]</td>\n",
       "      <td>[5.2]</td>\n",
       "      <td>[2.0]</td>\n",
       "      <td>virginica</td>\n",
       "    </tr>\n",
       "    <tr>\n",
       "      <th>147</th>\n",
       "      <td>[6.3]</td>\n",
       "      <td>[3.4]</td>\n",
       "      <td>[5.6]</td>\n",
       "      <td>[2.4]</td>\n",
       "      <td>virginica</td>\n",
       "    </tr>\n",
       "    <tr>\n",
       "      <th>148</th>\n",
       "      <td>[6.1]</td>\n",
       "      <td>[2.8]</td>\n",
       "      <td>[4.0]</td>\n",
       "      <td>[1.3]</td>\n",
       "      <td>versicolor</td>\n",
       "    </tr>\n",
       "    <tr>\n",
       "      <th>149</th>\n",
       "      <td>[7.4]</td>\n",
       "      <td>[2.8]</td>\n",
       "      <td>[6.1]</td>\n",
       "      <td>[1.9]</td>\n",
       "      <td>virginica</td>\n",
       "    </tr>\n",
       "  </tbody>\n",
       "</table>\n",
       "<p>150 rows × 5 columns</p>\n",
       "</div>"
      ],
      "text/plain": [
       "    sepal length (cm) sepal width (cm) petal length (cm) petal width (cm)  \\\n",
       "0               [5.1]            [3.8]             [1.6]            [0.2]   \n",
       "1               [4.6]            [3.2]             [1.4]            [0.2]   \n",
       "2               [5.1]            [3.5]             [1.4]            [0.2]   \n",
       "3               [5.1]            [3.8]             [1.5]            [0.3]   \n",
       "4               [6.3]            [2.8]             [5.1]            [1.5]   \n",
       "..                ...              ...               ...              ...   \n",
       "145             [6.1]            [3.0]             [4.9]            [1.8]   \n",
       "146             [6.5]            [3.0]             [5.2]            [2.0]   \n",
       "147             [6.3]            [3.4]             [5.6]            [2.4]   \n",
       "148             [6.1]            [2.8]             [4.0]            [1.3]   \n",
       "149             [7.4]            [2.8]             [6.1]            [1.9]   \n",
       "\n",
       "        species  \n",
       "0        setosa  \n",
       "1        setosa  \n",
       "2        setosa  \n",
       "3        setosa  \n",
       "4     virginica  \n",
       "..          ...  \n",
       "145   virginica  \n",
       "146   virginica  \n",
       "147   virginica  \n",
       "148  versicolor  \n",
       "149   virginica  \n",
       "\n",
       "[150 rows x 5 columns]"
      ]
     },
     "metadata": {},
     "output_type": "display_data"
    }
   ],
   "source": [
    "iris = pd.DataFrame(data_dic)\n",
    "iris = iris.sample(frac=1).reset_index()\n",
    "iris = iris.iloc[:, 1:6]\n",
    "display(iris)"
   ]
  },
  {
   "cell_type": "markdown",
   "metadata": {},
   "source": [
    "building the zero error trees (we have to use lists, so building the dataframe was useless: just for fun).\n",
    "we build a matrix first and then make it into a list when needed"
   ]
  },
  {
   "cell_type": "code",
   "execution_count": 17,
   "metadata": {},
   "outputs": [],
   "source": [
    "# building the matrix\n",
    "feature_values_all = np.concatenate((feature_values, np.matrix(data[\"target\"]).T), axis=1)\n",
    "np.random.shuffle(feature_values_all)\n",
    "\n",
    "# building the dictionary with trees inside\n",
    "t = {}\n",
    "\n",
    "t[\"species\"] = tree.DecisionTreeClassifier()\n",
    "t[\"species\"].fit(feature_values.tolist(), data_dic[\"species\"])\n",
    "\n",
    "i = 0 \n",
    "for name in feature_names:\n",
    "    t[name] = tree.DecisionTreeRegressor(min_samples_leaf=1, min_samples_split=2)\n",
    "    t[name].fit(np.delete(feature_values_all, i, axis=1).tolist(), feature_values_all[:, i].tolist())\n",
    "    i = i+1"
   ]
  },
  {
   "cell_type": "markdown",
   "metadata": {},
   "source": [
    "evaluation of the complexity (hardness of prediction in this paricular sample), namely number of nodes in the zero error tree"
   ]
  },
  {
   "cell_type": "code",
   "execution_count": 18,
   "metadata": {},
   "outputs": [
    {
     "name": "stdout",
     "output_type": "stream",
     "text": [
      "{'species': 17, 'sepal length (cm)': 263, 'sepal width (cm)': 263, 'petal length (cm)': 269, 'petal width (cm)': 223}\n"
     ]
    }
   ],
   "source": [
    "n_nodes = {}\n",
    "for name in t:\n",
    "    n_nodes[name] = t[name].tree_.node_count\n",
    "print(n_nodes)"
   ]
  },
  {
   "cell_type": "markdown",
   "metadata": {},
   "source": [
    "the answer is 'petal length'"
   ]
  }
 ],
 "metadata": {
  "kernelspec": {
   "display_name": "Python 3.10.6 64-bit",
   "language": "python",
   "name": "python3"
  },
  "language_info": {
   "codemirror_mode": {
    "name": "ipython",
    "version": 3
   },
   "file_extension": ".py",
   "mimetype": "text/x-python",
   "name": "python",
   "nbconvert_exporter": "python",
   "pygments_lexer": "ipython3",
   "version": "3.10.6"
  },
  "orig_nbformat": 4,
  "vscode": {
   "interpreter": {
    "hash": "31f2aee4e71d21fbe5cf8b01ff0e069b9275f58929596ceb00d14d90e3e16cd6"
   }
  }
 },
 "nbformat": 4,
 "nbformat_minor": 2
}
