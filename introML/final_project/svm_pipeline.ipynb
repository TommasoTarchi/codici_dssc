{
 "cells": [
  {
   "attachments": {},
   "cell_type": "markdown",
   "metadata": {},
   "source": [
    "# Support vector machine\n",
    "Tentativo di fare la previsione con una support vector machine"
   ]
  },
  {
   "cell_type": "code",
   "execution_count": null,
   "metadata": {},
   "outputs": [],
   "source": [
    "from sklearn import svm\n",
    "from sklearn.model_selection import GridSearchCV\n",
    "from sklearn.model_selection import cross_validate\n",
    "from sklearn.model_selection import LeaveOneOut\n",
    "from sklearn.model_selection import train_test_split\n",
    "from sklearn import metrics\n",
    "import pandas as pd\n",
    "from matplotlib import pyplot as plt\n",
    "from statistics import mean\n",
    "import numpy as np\n",
    "from IPython.core.interactiveshell import InteractiveShell\n",
    "InteractiveShell.ast_node_interactivity = 'all'\n",
    "#pipelines for scaling data\n",
    "from sklearn.pipeline import make_pipeline\n",
    "from sklearn.preprocessing import StandardScaler\n",
    "\n",
    "#setting up labels for dataset\n",
    "labels = ['class', 'spec_num', 'eccentr', 'asp_ratio', 'elong', 'solidity', 'stoch_conv', 'iso_factor', 'max_ind_depth', 'lobedness', 'av_intensity', 'av_contr', 'smooth', 'third_mom', 'unif', 'entropy']\n",
    "#importing data\n",
    "df = pd.read_csv(r'./leaf/leaf.csv', header = None, names = labels)\n",
    "#display(df)\n",
    "\n",
    "#shuffle data\n",
    "df = df.sample(frac=1).reset_index()\n",
    "df = df.iloc[:, 1:17]\n",
    "\n",
    "#separating y from x\n",
    "X = df.iloc[:, 2:16]\n",
    "y = df.iloc[:, 0]"
   ]
  },
  {
   "cell_type": "code",
   "execution_count": null,
   "metadata": {},
   "outputs": [],
   "source": [
    "#declaring classifier for 'one versus one' case\n",
    "clf = svm.SVC(decision_function_shape='ovo')\n",
    "#fitting classifier\n",
    "clf.fit(X, y)"
   ]
  },
  {
   "attachments": {},
   "cell_type": "markdown",
   "metadata": {},
   "source": [
    "## Static test"
   ]
  },
  {
   "cell_type": "code",
   "execution_count": null,
   "metadata": {},
   "outputs": [],
   "source": [
    "#dividing the dataset for a static test\n",
    "X_train, X_test, y_train, y_test = train_test_split(df.iloc[:, 2:16], df.iloc[:, 0], test_size=0.3) # 70% training and 30% test"
   ]
  },
  {
   "cell_type": "code",
   "execution_count": null,
   "metadata": {},
   "outputs": [],
   "source": [
    "### Fit scaled and non-scaled classifiers for the training data"
   ]
  },
  {
   "cell_type": "code",
   "execution_count": null,
   "metadata": {},
   "outputs": [],
   "source": [
    "from sklearn.pipeline import Pipeline\n",
    "#non-scaled clf\n",
    "stat_clf = svm.SVC(kernel='linear')    #remember that the default kernel is rbf. \n",
    "stat_clf.fit(X_train, y_train)\n",
    "#scaled clf\n",
    "scaled_clf = Pipeline([ ('scaling', StandardScaler()),\n",
    "                        ('SVM', svm.SVC(kernel='linear', decision_function_shape='ovo'))])\n",
    "scaled_clf.fit(X_train, y_train)"
   ]
  },
  {
   "cell_type": "code",
   "execution_count": null,
   "metadata": {},
   "outputs": [],
   "source": [
    "#let's make a prediction on the test data with both classifiers\n",
    "y_pred = stat_clf.predict(X_test)\n",
    "y_pred_scaled = scaled_clf.predict(X_test)\n",
    "#y_pred - y_pred_scaled"
   ]
  },
  {
   "attachments": {},
   "cell_type": "markdown",
   "metadata": {},
   "source": [
    "Possiamo vedere che le previsioni sono diverse. Proviamo a confrontare i parametri di stat_clf e scaled_clf, per vedere se con lo scaling cambiano solo i dati o anche i classificatori."
   ]
  },
  {
   "attachments": {},
   "cell_type": "markdown",
   "metadata": {},
   "source": [
    "### Valutiamo il nostro modello statico"
   ]
  },
  {
   "cell_type": "code",
   "execution_count": null,
   "metadata": {},
   "outputs": [],
   "source": [
    "print(\"Accuracy clf:\", metrics.accuracy_score(y_test, y_pred))\n",
    "print(\"Accuracy scaled_clf:\", metrics.accuracy_score(y_test, y_pred_scaled))\n",
    "\n",
    "#da tenere in considerazione per i warning sotto\n",
    "print(y_test.sort_values().unique())\n",
    "y_compare = y_test.to_numpy\n",
    "y_pred.sort\n",
    "print(np.unique(y_pred))"
   ]
  },
  {
   "attachments": {},
   "cell_type": "markdown",
   "metadata": {},
   "source": [
    "## Cross validation\n",
    "Facciamo learning tramite cross validation su un terzo modello \"clf_cv\""
   ]
  },
  {
   "cell_type": "code",
   "execution_count": null,
   "metadata": {},
   "outputs": [],
   "source": [
    "#per stampare tutti i nomi degli indici di valutazione\n",
    "#print(metrics.get_scorer_names())"
   ]
  },
  {
   "cell_type": "code",
   "execution_count": null,
   "metadata": {},
   "outputs": [],
   "source": [
    "clf_cv = svm.SVC(decision_function_shape='ovo')\n",
    "k = 5\n",
    "effect_cv = cross_validate(clf_cv, X, y, cv=k, scoring=('accuracy'))\n",
    "effect_cv\n",
    "print(\"Mean test_score:\", mean(effect_cv['test_score']))"
   ]
  },
  {
   "cell_type": "code",
   "execution_count": null,
   "metadata": {},
   "outputs": [],
   "source": [
    "#pipelines for scaling data\n",
    "from sklearn.pipeline import Pipeline\n",
    "from sklearn.preprocessing import StandardScaler\n",
    "from sklearn.metrics import accuracy_score\n",
    "\n",
    "pipe = Pipeline([('scaling', StandardScaler()),\n",
    "                 ('SVM', svm.SVC(decision_function_shape='ovo'))])\n",
    "\n",
    "# building the range of the regularization parameter (C)\n",
    "exp = np.arange(-10, 12)\n",
    "reg_param = 10.**exp\n",
    "\n",
    "grid_param = {'SVM__C': reg_param,\n",
    "              'SVM__kernel': ['linear', 'poly', 'rbf', 'sigmoid'], \n",
    "              'SVM__degree': np.arange(2, 5),\n",
    "              'SVM__decision_function_shape': ['ovo', 'ovr']}\n",
    "\n",
    "clf_cv = GridSearchCV(pipe, grid_param ,scoring='balanced_accuracy', n_jobs=4)\n",
    "clf_cv.fit(X_train,y_train)\n",
    "\n",
    "predictions = clf_cv.predict(X_test)\n",
    "print(\"Accuracy on predictions: \", accuracy_score(y_test, predictions))\n",
    "print(\"Best params: \", clf_cv.best_params_)\n",
    "print(\"Accuracy scores: \", clf_cv.best_score_)"
   ]
  }
 ],
 "metadata": {
  "kernelspec": {
   "display_name": "Python 3",
   "language": "python",
   "name": "python3"
  },
  "language_info": {
   "codemirror_mode": {
    "name": "ipython",
    "version": 3
   },
   "file_extension": ".py",
   "mimetype": "text/x-python",
   "name": "python",
   "nbconvert_exporter": "python",
   "pygments_lexer": "ipython3",
   "version": "3.10.6"
  },
  "orig_nbformat": 4,
  "vscode": {
   "interpreter": {
    "hash": "916dbcbb3f70747c44a77c7bcd40155683ae19c65e1c03b4aa3499c5328201f1"
   }
  }
 },
 "nbformat": 4,
 "nbformat_minor": 2
}
