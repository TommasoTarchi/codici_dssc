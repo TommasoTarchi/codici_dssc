{
 "cells": [
  {
   "cell_type": "code",
   "execution_count": null,
   "metadata": {},
   "outputs": [],
   "source": [
    "from sklearn import tree\n",
    "from sklearn.model_selection import GridSearchCV\n",
    "from sklearn.model_selection import cross_validate\n",
    "from sklearn.model_selection import LeaveOneOut\n",
    "from sklearn import metrics    # contains all the effectivness idexes \n",
    "import pandas as pd    # for the dataset\n",
    "from matplotlib import pyplot as plt\n",
    "from statistics import mean\n",
    "import numpy as np"
   ]
  },
  {
   "cell_type": "markdown",
   "metadata": {},
   "source": [
    "#### getting the dataset"
   ]
  },
  {
   "cell_type": "code",
   "execution_count": null,
   "metadata": {},
   "outputs": [],
   "source": [
    "labels = ['class', 'spec_num', 'spec_number', 'eccentr', 'asp_ratio', 'elong', 'solidity', 'stoch_conv', 'iso_factor', 'max_ind_depth', 'lobedness', 'av_intensity', 'av_contr', 'smooth', 'third_mom', 'unif', 'entropy']\n",
    "\n",
    "df = pd.read_csv(r'./leaf/leaf.csv', header = None, names = labels)\n",
    "display(df)"
   ]
  },
  {
   "cell_type": "code",
   "execution_count": null,
   "metadata": {},
   "outputs": [],
   "source": [
    "t = tree.DecisionTreeClassifier()\n",
    "\n",
    "X = df.iloc[:, 2:16]\n",
    "y = df.iloc[:, 0]\n",
    "display(X)"
   ]
  },
  {
   "cell_type": "code",
   "execution_count": null,
   "metadata": {},
   "outputs": [],
   "source": [
    "# initializing a first tree\n",
    "\n",
    "# min_sample_split is the minimum number of observations allowed in a node to perform a split\n",
    "# criterion is the index used while splitting to find the best branch\n",
    "# min_impurity_decrease is minimum amount of impurity decrease after a split allowed to perform a split\n",
    "\n",
    "t_first = tree.DecisionTreeClassifier(min_samples_split=2, criterion='gini', min_impurity_decrease=0.)"
   ]
  },
  {
   "cell_type": "code",
   "execution_count": null,
   "metadata": {},
   "outputs": [],
   "source": [
    "# using grid search to find the best hyperparameters and fitting the tree\n",
    "\n",
    "grid_param = {'criterion': ['gini', 'entropy'], 'min_samples_split': np.array(range(2, 8))}\n",
    "t = GridSearchCV(tree.DecisionTreeClassifier(), grid_param, cv=5, scoring='accuracy')\n",
    "t.fit(X, y)\n",
    "print(t.best_params_)\n",
    "print(t.best_score_)"
   ]
  },
  {
   "cell_type": "markdown",
   "metadata": {},
   "source": [
    "#### first attempt to fit a tree"
   ]
  },
  {
   "cell_type": "code",
   "execution_count": null,
   "metadata": {},
   "outputs": [],
   "source": [
    "t_first.fit(X, y)"
   ]
  },
  {
   "cell_type": "code",
   "execution_count": null,
   "metadata": {},
   "outputs": [],
   "source": [
    "tree.plot_tree(t_first)\n",
    "plt.savefig(\"tree\", dpi=1000)"
   ]
  },
  {
   "cell_type": "code",
   "execution_count": null,
   "metadata": {},
   "outputs": [],
   "source": [
    "# prints effectiveness (should be maximum because min_sample_split=2)\n",
    "\n",
    "print(t_first.score(X, y))"
   ]
  },
  {
   "cell_type": "markdown",
   "metadata": {},
   "source": [
    "#### evaluation of the technique using cross validation"
   ]
  },
  {
   "cell_type": "code",
   "execution_count": null,
   "metadata": {},
   "outputs": [],
   "source": [
    "# names of all effectivness indexes available in sklearn\n",
    "\n",
    "# note that roc_auc doesn't work in cv because it is a multiclass classification (we need to specify\n",
    "# ovo or ovr) and that all roc_auc variants don't work in loocv because the testing sets contain\n",
    "# only one observation\n",
    "\n",
    "print(metrics.get_scorer_names())"
   ]
  },
  {
   "cell_type": "code",
   "execution_count": null,
   "metadata": {},
   "outputs": [],
   "source": [
    "# k-fold cross validation\n",
    "k = 5\n",
    "\n",
    "effect_cv = cross_validate(t, X, y, cv=k, scoring=('accuracy', 'roc_auc_ovo', 'roc_auc_ovr'))"
   ]
  },
  {
   "cell_type": "code",
   "execution_count": null,
   "metadata": {},
   "outputs": [],
   "source": [
    "effect = cross_validate(t, X, y, cv=LeaveOneOut(), scoring='accuracy')\n",
    "\n",
    "print(effect)"
   ]
  },
  {
   "cell_type": "code",
   "execution_count": null,
   "metadata": {},
   "outputs": [],
   "source": [
    "print(type(t))\n",
    "print(type(t_first))"
   ]
  }
 ],
 "metadata": {
  "kernelspec": {
   "display_name": "Python 3",
   "language": "python",
   "name": "python3"
  },
  "language_info": {
   "codemirror_mode": {
    "name": "ipython",
    "version": 3
   },
   "file_extension": ".py",
   "mimetype": "text/x-python",
   "name": "python",
   "nbconvert_exporter": "python",
   "pygments_lexer": "ipython3",
   "version": "3.10.8"
  },
  "orig_nbformat": 4,
  "vscode": {
   "interpreter": {
    "hash": "916dbcbb3f70747c44a77c7bcd40155683ae19c65e1c03b4aa3499c5328201f1"
   }
  }
 },
 "nbformat": 4,
 "nbformat_minor": 2
}
