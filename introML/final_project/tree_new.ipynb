{
 "cells": [
  {
   "cell_type": "markdown",
   "metadata": {},
   "source": [
    "## single tree "
   ]
  },
  {
   "cell_type": "markdown",
   "metadata": {},
   "source": [
    "better version of tree.ipynb"
   ]
  },
  {
   "cell_type": "code",
   "execution_count": null,
   "metadata": {},
   "outputs": [],
   "source": [
    "from sklearn import tree\n",
    "from sklearn.model_selection import GridSearchCV\n",
    "from sklearn.model_selection import LeaveOneOut\n",
    "from sklearn import metrics    # contains all the effectivness idexes \n",
    "import pandas as pd    # for the dataset\n",
    "from matplotlib import pyplot as plt\n",
    "import numpy as np"
   ]
  },
  {
   "cell_type": "markdown",
   "metadata": {},
   "source": [
    "#### importing and preparing the dataset"
   ]
  },
  {
   "cell_type": "code",
   "execution_count": null,
   "metadata": {},
   "outputs": [],
   "source": [
    "labels = ['class', 'spec_num', 'eccentr', 'asp_ratio', 'elong', 'solidity', 'stoch_conv', 'iso_factor', 'max_ind_depth', 'lobedness', 'av_intensity', 'av_contr', 'smooth', 'third_mom', 'unif', 'entropy']\n",
    "\n",
    "df = pd.read_csv(r'./leaf/leaf.csv', header = None, names = labels)\n",
    "\n",
    "# shuffling the dataframe\n",
    "df = df.sample(frac=1).reset_index()\n",
    "df = df.iloc[:, 1:17]   # needed to eliminate the old indexes column"
   ]
  },
  {
   "cell_type": "code",
   "execution_count": null,
   "metadata": {},
   "outputs": [],
   "source": [
    "X = df.iloc[:, 2:16]\n",
    "y = df.iloc[:, 0]"
   ]
  },
  {
   "cell_type": "markdown",
   "metadata": {},
   "source": [
    "#### finding best hyper-parameters"
   ]
  },
  {
   "cell_type": "code",
   "execution_count": null,
   "metadata": {},
   "outputs": [],
   "source": [
    "# names of all effectivness indexes available in sklearn\n",
    "\n",
    "# note that roc_auc doesn't work in cv because it is a multiclass classification (we need to specify\n",
    "# ovo or ovr) and that all roc_auc variants don't work in loocv because the testing sets contain\n",
    "# only one observation\n",
    "\n",
    "print(metrics.get_scorer_names())"
   ]
  },
  {
   "cell_type": "code",
   "execution_count": null,
   "metadata": {},
   "outputs": [],
   "source": [
    "# using grid search with k-fold CV to find the best hyperparameters and fitting the tree\n",
    "\n",
    "# se refit = 'blabla', alla fine viene rifittato l'albero su tutto il dataset scegliendo i parametri\n",
    "# migliori in base all'indice di accuracy 'blabla'\n",
    "\n",
    "k = 5\n",
    "\n",
    "grid_param = {'criterion': ['gini', 'entropy'], 'min_samples_split': np.array(range(2, 8))}\n",
    "t_cv = GridSearchCV(tree.DecisionTreeClassifier(), grid_param, cv=k, scoring=('accuracy', 'roc_auc_ovo', 'roc_auc_ovr'), refit=False)\n",
    "t_cv.fit(x, y)\n",
    "\n",
    "display(pd.DataFrame(t_cv.cv_results_))"
   ]
  },
  {
   "cell_type": "code",
   "execution_count": null,
   "metadata": {},
   "outputs": [],
   "source": [
    "# using now grid search with loocv\n",
    "\n",
    "grid_param = {'criterion': ['gini', 'entropy'], 'min_samples_split': np.array(range(2, 8))}\n",
    "t_loocv = GridSearchCV(tree.DecisionTreeClassifier(), grid_param, cv=LeaveOneOut(), scoring='accuracy')\n",
    "t_loocv.fit(X, y)\n",
    "print(t_loocv.best_params_)\n",
    "print(t_loocv.best_score_)"
   ]
  },
  {
   "cell_type": "markdown",
   "metadata": {},
   "source": [
    "#### fitting the trees"
   ]
  },
  {
   "cell_type": "code",
   "execution_count": null,
   "metadata": {},
   "outputs": [],
   "source": [
    "t_cv_instance = t_cv.best_estimator_\n",
    "t_loocv_instance = t_loocv.best_estimator_"
   ]
  },
  {
   "cell_type": "code",
   "execution_count": null,
   "metadata": {},
   "outputs": [],
   "source": [
    "fig = plt.figure(figsize=(25,20))\n",
    "_ = tree.plot_tree(t_cv_instance, filled=True)"
   ]
  },
  {
   "cell_type": "code",
   "execution_count": null,
   "metadata": {},
   "outputs": [],
   "source": [
    "fig = plt.figure(figsize=(25,20))\n",
    "_ = tree.plot_tree(t_loocv_instance, filled=True)"
   ]
  },
  {
   "cell_type": "code",
   "execution_count": null,
   "metadata": {},
   "outputs": [],
   "source": [
    "print(type(t_cv_instance))\n",
    "print(type(t_cv))"
   ]
  }
 ],
 "metadata": {
  "kernelspec": {
   "display_name": "Python 3.10.6 64-bit",
   "language": "python",
   "name": "python3"
  },
  "language_info": {
   "codemirror_mode": {
    "name": "ipython",
    "version": 3
   },
   "file_extension": ".py",
   "mimetype": "text/x-python",
   "name": "python",
   "nbconvert_exporter": "python",
   "pygments_lexer": "ipython3",
   "version": "3.10.6"
  },
  "orig_nbformat": 4,
  "vscode": {
   "interpreter": {
    "hash": "31f2aee4e71d21fbe5cf8b01ff0e069b9275f58929596ceb00d14d90e3e16cd6"
   }
  }
 },
 "nbformat": 4,
 "nbformat_minor": 2
}
