{
 "cells": [
  {
   "attachments": {},
   "cell_type": "markdown",
   "metadata": {},
   "source": [
    "# Support vector machine\n",
    "Tentativo di fare la previsione con una support vector machine"
   ]
  },
  {
   "cell_type": "code",
   "execution_count": null,
   "metadata": {},
   "outputs": [],
   "source": [
    "from sklearn import svm\n",
    "from sklearn.model_selection import GridSearchCV\n",
    "from sklearn.model_selection import cross_validate\n",
    "from sklearn.model_selection import LeaveOneOut\n",
    "from sklearn.model_selection import train_test_split\n",
    "from sklearn import metrics\n",
    "import pandas as pd\n",
    "from matplotlib import pyplot as plt\n",
    "from statistics import mean\n",
    "import numpy as np\n",
    "from IPython.core.interactiveshell import InteractiveShell\n",
    "InteractiveShell.ast_node_interactivity = 'all'\n",
    "#preprocessing\n",
    "from sklearn import preprocessing \n",
    "\n",
    "#setting up labels for dataset\n",
    "labels = ['class', 'spec_num', 'eccentr', 'asp_ratio', 'elong', 'solidity', 'stoch_conv', 'iso_factor', 'max_ind_depth', 'lobedness', 'av_intensity', 'av_contr', 'smooth', 'third_mom', 'unif', 'entropy']\n",
    "#importing data\n",
    "df = pd.read_csv(r'./leaf/leaf.csv', header = None, names = labels)\n",
    "#display(df)\n",
    "#separating y from x\n",
    "X = df.iloc[:, 2:16]\n",
    "y = df.iloc[:, 0]"
   ]
  },
  {
   "cell_type": "code",
   "execution_count": null,
   "metadata": {},
   "outputs": [],
   "source": [
    "#declaring classifier for 'one versus one' case\n",
    "clf = svm.SVC(decision_function_shape='ovo')"
   ]
  },
  {
   "cell_type": "code",
   "execution_count": null,
   "metadata": {},
   "outputs": [],
   "source": [
    "#fitting classifier\n",
    "clf.fit(X, y)"
   ]
  },
  {
<<<<<<< HEAD
   "cell_type": "code",
   "execution_count": null,
   "metadata": {},
   "outputs": [],
   "source": [
    "#Possiamo vedere i support vector se vogliamo\n",
    "clf.support_vectors_"
   ]
  },
  {
=======
>>>>>>> eb42f969aa2165a59f63d1ecdd9e7c715a031f62
   "attachments": {},
   "cell_type": "markdown",
   "metadata": {},
   "source": [
    "## Static test e scaling"
   ]
  },
  {
   "cell_type": "code",
   "execution_count": null,
   "metadata": {},
   "outputs": [],
   "source": [
    "X_train, X_test, y_train, y_test = train_test_split(df.iloc[:, 2:16], df.iloc[:, 0], test_size=0.3) # 70% training and 30% test\n",
    "\n",
    "scaler_xtr = preprocessing.StandardScaler().fit(X_train)\n",
    "Xtr_scaled = scaler_xtr.transform(X_train)\n",
    "\n",
    "scaler_xte = preprocessing.StandardScaler().fit(X_test)\n",
    "Xte_scaled = scaler_xte.transform(X_test)\n",
    "\n",
    "#Xtr_scaled.mean(axis=0)\n",
    "#Xtr_scaled.std(axis=0)\n",
    "#Xte_scaled.mean(axis=0)\n",
    "#Xte_scaled.std(axis=0)"
   ]
  },
  {
   "attachments": {},
   "cell_type": "markdown",
   "metadata": {},
   "source": [
    "Nota: se vuoi ottenere sempre lo stesso split (ad esempio per fare delle prove), aggiungi il parametro \"random_state = num\" dove num è un intero costante"
   ]
  },
  {
   "cell_type": "code",
   "execution_count": null,
   "metadata": {},
   "outputs": [],
   "source": [
    "stat_clf = svm.SVC(kernel='linear')    #remember that the default kernel is rbf. \n",
    "#Try changing kernel between: {‘linear’, ‘poly’, ‘rbf’, ‘sigmoid’, ‘precomputed’} \n",
    "stat_clf.fit(X_train, y_train)\n",
    "\n",
    "#classifier con lo scaling\n",
    "scaled_clf = svm.SVC(kernel='linear')\n",
    "scaled_clf.fit(Xtr_scaled, y_train)"
   ]
  },
  {
   "cell_type": "markdown",
   "metadata": {},
   "source": [
    "## Fase di prediction"
   ]
  },
  {
   "cell_type": "code",
   "execution_count": null,
   "metadata": {},
   "outputs": [],
   "source": [
    "#let's make a prediction on the test data\n",
    "y_pred = stat_clf.predict(X_test)\n",
    "y_pred2 = scaled_clf.predict(Xte_scaled)\n",
    "y_pred - y_pred2"
   ]
  },
  {
   "attachments": {},
   "cell_type": "markdown",
   "metadata": {},
   "source": [
    "### Valutiamo il nostro modello statico"
   ]
  },
  {
   "cell_type": "code",
<<<<<<< HEAD
   "execution_count": null,
   "metadata": {},
   "outputs": [],
   "source": [
    "print(\"Accuracy:\",metrics.accuracy_score(y_test, y_pred))\n",
    "print(\"Accuracy with scaling: \", metrics.accuracy_score(y_test, y_pred2))"
   ]
  },
  {
   "attachments": {},
   "cell_type": "markdown",
   "metadata": {},
   "source": [
    "## Cross validation\n",
    "Facciamo learning tramite cross validation su un terzo modello \"clf_cv\"."
   ]
  },
  {
   "cell_type": "code",
   "execution_count": null,
   "metadata": {},
   "outputs": [],
   "source": [
    "#print(metrics.get_scorer_names())"
   ]
  },
  {
   "cell_type": "code",
   "execution_count": null,
   "metadata": {},
   "outputs": [],
   "source": [
    "clf_cv = svm.SVC(decision_function_shape='ovo')\n",
    "k = 5\n",
    "effect_cv = cross_validate(clf_cv, X, y, cv=k, scoring=('accuracy'))\n",
    "effect_cv\n",
    "print(\"Mean test_score:\", mean(effect_cv['test_score']))"
   ]
  },
  {
   "attachments": {},
   "cell_type": "markdown",
   "metadata": {},
   "source": [
    "Proviamo anche a modificare scaled_clf con la CV. Per ogni fold della CV bisogna ricordarsi di riscalare i dati."
   ]
  },
  {
   "cell_type": "code",
=======
>>>>>>> eb42f969aa2165a59f63d1ecdd9e7c715a031f62
   "execution_count": null,
   "metadata": {},
   "outputs": [],
   "source": [
    "print(\"Accuracy:\",metrics.accuracy_score(y_test, y_pred))\n",
    "print(\"Accuracy with scaling: \", metrics.accuracy_score(y_test, y_pred2))"
   ]
  }
 ],
 "metadata": {
  "kernelspec": {
   "display_name": "Python 3",
   "language": "python",
   "name": "python3"
  },
  "language_info": {
   "codemirror_mode": {
    "name": "ipython",
    "version": 3
   },
   "file_extension": ".py",
   "mimetype": "text/x-python",
   "name": "python",
   "nbconvert_exporter": "python",
   "pygments_lexer": "ipython3",
   "version": "3.10.6"
  },
  "orig_nbformat": 4,
  "vscode": {
   "interpreter": {
    "hash": "916dbcbb3f70747c44a77c7bcd40155683ae19c65e1c03b4aa3499c5328201f1"
   }
  }
 },
 "nbformat": 4,
 "nbformat_minor": 2
}
