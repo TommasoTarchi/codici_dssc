{
  "cells": [
    {
      "cell_type": "markdown",
      "metadata": {
        "id": "dhfJH6LMxo5H"
      },
      "source": [
        "# Direct methods for solving linear systems"
      ]
    },
    {
      "cell_type": "markdown",
      "metadata": {
        "id": "QXNQbMl4xo5J"
      },
      "source": [
        "Recall the prototypal PDE problem introduce in the Lecture 08:\n",
        "$$\n",
        "-u_{xx}(x) = f(x)\\quad\\mathrm{ in }\\ \\Omega = (0, 1)\n",
        "$$\n",
        "$$\n",
        "u(x) = 0, \\quad\\mathrm{ on }\\ \\partial\\Omega = \\{0, 1\\}\n",
        "$$\n",
        "\n",
        "The physical interpretation of this problem is related to the modelling of an elastic string, which occupies at rest the space $[0,1]$ and is fixed at the two extremes. The unknown $u(x)$ represents the displacement of the string at the point $x$, and the right-hand side models a prescribed force $f(x)$ on the string.\n",
        "\n",
        "For the numerical discretization of the problem, we consider a **Finite Difference (FD) Approximation**. Let $n$ be an integer, a consider a uniform subdivision of the interval $(0,1)$ using $n$ equispaced points, denoted by $\\{x_i\\}_{i=0}^n$ . Moreover, let $u_i$ be the FD approximation of $u(x_i)$, and similarly $f_i \\approx f(x_i)$.\n",
        "\n",
        "In order to formulate the discrete problem, we consider a FD approximation of the left-hand side, as follows:\n",
        "$$\n",
        "-u_{xx}(x_i) \\approx \\frac{-u_{i-1} + 2u_i - u_{i+1}}{h^2}\n",
        "$$\n",
        "being $h = \\frac{1}{n-1}$ the size of each subinterval $(x_i, x_{i+1})$.\n",
        "\n",
        "The problem that we need to solve is\n",
        "$$\n",
        "u_i = 0 \\qquad\\qquad\\qquad\\qquad i=0,\n",
        "$$\n",
        "$$\n",
        "\\frac{-u_{i-1} + 2u_i - u_{i+1}}{h^2} = f_i \\qquad\\qquad\\qquad i=1, \\ldots, n-1,\\qquad\\qquad\\qquad(P)\n",
        "$$\n",
        "$$\n",
        "u_i = 0 \\qquad\\qquad\\qquad\\qquad i=n.\n",
        "$$\n",
        "\n",
        "Then, let us collect al the unknowns $\\{u_i\\}_{i=0}^n$ in a vector $\\mathbf{u}$. Then, (P) is a linear system\n",
        "$$\n",
        "A \\mathbf{u} = \\mathbf{f}.\n",
        "$$\n",
        "\n",
        "In this exercise we will show how to use direct methods to solve linear systems, and in particular we will discuss the **LU** and **Cholesky** decompositions that you have studied in Lecture 07.\n",
        "\n",
        "\n",
        "\n",
        "First of all, let use define $n$ and $\\{x_i\\}_{i=0}^n$."
      ]
    },
    {
      "cell_type": "code",
      "execution_count": 1,
      "metadata": {
        "id": "0p7p4X_8xo5K"
      },
      "outputs": [],
      "source": [
        "from matplotlib import pyplot as plt\n",
        "import numpy as np\n",
        "\n",
        "n = 33\n",
        "h = 1./(n-1)\n",
        "\n",
        "x=np.linspace(0,1,n)"
      ]
    },
    {
      "cell_type": "markdown",
      "metadata": {
        "id": "qc7BGKMMxo5L"
      },
      "source": [
        "Let us define the left-hand side matrix $A$."
      ]
    },
    {
      "cell_type": "code",
      "execution_count": 4,
      "metadata": {
        "colab": {
          "base_uri": "https://localhost:8080/"
        },
        "id": "l49_5yq0xo5L",
        "outputId": "63de9387-1f44-4bac-f3fd-529c2f799baf",
        "scrolled": true
      },
      "outputs": [
        {
          "name": "stdout",
          "output_type": "stream",
          "text": [
            "[[ 2048. -1024.     0. ...     0.     0.     0.]\n",
            " [-1024.  2048. -1024. ...     0.     0.     0.]\n",
            " [    0. -1024.  2048. ...     0.     0.     0.]\n",
            " ...\n",
            " [    0.     0.     0. ...  2048. -1024.     0.]\n",
            " [    0.     0.     0. ... -1024.  2048. -1024.]\n",
            " [    0.     0.     0. ...     0. -1024.  2048.]]\n",
            "467.84262883905853\n"
          ]
        }
      ],
      "source": [
        "a = -np.ones((n-1))   # Offdiagonal entries\n",
        "b = 2*np.ones((n))   # Diagonal entries\n",
        "A = (np.diag(a, -1) + np.diag(b, 0) + np.diag(a, +1))\n",
        "A /= h**2\n",
        "\n",
        "print(A)\n",
        "print(np.linalg.cond(A))"
      ]
    },
    {
      "cell_type": "markdown",
      "metadata": {
        "id": "CysvQ-vFxo5M"
      },
      "source": [
        "Moreover, let us choose \n",
        "$$\n",
        "f(x) = x (1-x)\n",
        "$$\n",
        "so that the solution $u(x)$ can be computed analytically as\n",
        "$$\n",
        "u(x) = u_{\\mathrm{ex}}(x) = \\frac{x^4}{12} - \\frac{x^3}{6} +\\frac{x}{12}\n",
        "$$\n",
        "\n",
        "The right hand side $\\mathbf{f}$ then is easily assembled as:"
      ]
    },
    {
      "cell_type": "code",
      "execution_count": 5,
      "metadata": {
        "id": "yjj3QXrQxo5N",
        "scrolled": true
      },
      "outputs": [],
      "source": [
        "f = x*(1.-x)"
      ]
    },
    {
      "cell_type": "markdown",
      "metadata": {
        "id": "sXS5vchexo5N"
      },
      "source": [
        "We still need to impose the boundary conditions at $x=0$ and $x=1$, which read\n",
        "$$\n",
        "u_i = 0 \\qquad\\qquad\\qquad\\qquad i=0,\n",
        "$$\n",
        "and\n",
        "$$\n",
        "u_i = 0 \\qquad\\qquad\\qquad\\qquad i=n,\n",
        "$$\n",
        "\n",
        "These conditions are associated with the first (last, respectively) row of the linear system.\n",
        "\n",
        "Then we can solve the linear system and compare the FD approximation of $u$ to the exact solution $u_{\\mathrm{ex}}$."
      ]
    },
    {
      "cell_type": "code",
      "execution_count": 8,
      "metadata": {
        "id": "QWYI5pZNxo5N",
        "outputId": "e0b7e1e4-381b-45b1-cee2-1928dc3ea391"
      },
      "outputs": [
        {
          "data": {
            "image/png": "[encoded data removed]",
            "text/plain": [
              "<Figure size 640x480 with 1 Axes>"
            ]
          },
          "metadata": {},
          "output_type": "display_data"
        }
      ],
      "source": [
        "# Change first row of the matrix A\n",
        "A[0,:] = 0\n",
        "A[:,0] = 0\n",
        "A[0,0] = 1\n",
        "f[0] = 0\n",
        "\n",
        "# Change last row of the matrix A\n",
        "A[-1,:] = 0\n",
        "A[:,-1] = 0\n",
        "A[-1,-1] = 1\n",
        "f[-1] = 0\n",
        "\n",
        "# Solve the linear system using numpy\n",
        "A1 = A.copy()\n",
        "u = np.linalg.solve(A1, f)\n",
        "u_ex = (x**4)/12. - (x**3)/6. + x/12.\n",
        "\n",
        "# Plot the FD and exact solution\n",
        "_ = plt.plot(x,u,'ro')\n",
        "_ = plt.plot(x,u_ex)"
      ]
    },
    {
      "cell_type": "markdown",
      "metadata": {
        "id": "0cBb7uXaxo5O"
      },
      "source": [
        "## LU decomposition\n",
        "\n",
        "We want to implement our linear solver using an **LU decomposition** (without pivoting)\n",
        "$$\n",
        "A = LU\n",
        "$$\n",
        "\n",
        "LU decomposition can be computed as in the following function."
      ]
    },
    {
      "cell_type": "code",
      "execution_count": 9,
      "metadata": {
        "id": "bUShalaexo5O",
        "scrolled": true
      },
      "outputs": [],
      "source": [
        "def LU(A):\n",
        "    A = A.copy()\n",
        "    N=len(A)\n",
        "    for k in range(N-1):\n",
        "        if (abs(A[k,k]) < 1e-15):\n",
        "            raise RuntimeError(\"Null pivot\")\n",
        "            \n",
        "        A[k+1:N,k] /= A[k,k]\n",
        "        for j in range(k+1,N):\n",
        "            A[k+1:N,j] -= A[k+1:N,k]*A[k,j]\n",
        "    \n",
        "    L=np.tril(A)\n",
        "    for i in range(N):\n",
        "        L[i,i]=1.0\n",
        "    U = np.triu(A)\n",
        "    return L, U\n",
        "\n",
        "L, U = LU(A)"
      ]
    },
    {
      "cell_type": "markdown",
      "metadata": {
        "id": "WJ5qw_G5xo5P"
      },
      "source": [
        "Once $L$ and $U$ have been computed, the system\n",
        "$$\n",
        "A\\mathbf{u}=\\mathbf{f}\n",
        "$$\n",
        "can be solved in **two steps**: first solve\n",
        "$$\n",
        "L\\mathbf{w}=\\mathbf{f},\n",
        "$$\n",
        "where $L$ is a **lower triangular matrix**, and then solve\n",
        "$$\n",
        "U\\mathbf{u}=\\mathbf{w}\n",
        "$$\n",
        "where $U$ is an **upper triangular matrix**.\n",
        "\n",
        "These two systems can be easily solved by forward (backward, respectively) substitution."
      ]
    },
    {
      "cell_type": "code",
      "execution_count": 13,
      "metadata": {
        "id": "x-p38LDYxo5P"
      },
      "outputs": [],
      "source": [
        "def L_solve(L,rhs):\n",
        "    x = np.zeros_like(rhs)\n",
        "    N = len(L)\n",
        "        \n",
        "    x[0] = rhs[0] / L[0,0]\n",
        "    for i in range(1,N):\n",
        "        x[i] = (rhs[i] - np.dot(L[i, 0:i], x[0:i])) / L[i, i]\n",
        "    \n",
        "    return x"
      ]
    },
    {
      "cell_type": "code",
      "execution_count": 16,
      "metadata": {
        "id": "CTq2pdC3xo5P"
      },
      "outputs": [],
      "source": [
        "def U_solve(U,rhs):\n",
        "    x = np.zeros_like(rhs)\n",
        "    N = len(U)\n",
        "\n",
        "    x[-1] = rhs[-1] / U[-1][-1]\n",
        "    for i in range(N-2, -1, -1):\n",
        "        x[i] = (rhs[i] - np.dot(U[i, i+1:N], x[i+1:N])) / U[i, i]\n",
        "\n",
        "    return x"
      ]
    },
    {
      "cell_type": "markdown",
      "metadata": {
        "id": "BFqYy7DMxo5P"
      },
      "source": [
        "Now let's solve the system \n",
        "$$\n",
        "A\\mathbf{u}=\\mathbf{f}\n",
        "$$\n",
        "\n",
        "and compare the solution with respect to the exact solution."
      ]
    },
    {
      "cell_type": "code",
      "execution_count": 18,
      "metadata": {
        "id": "sURgiH7jxo5Q",
        "scrolled": true
      },
      "outputs": [
        {
          "data": {
            "image/png": "[encoded data removed]",
            "text/plain": [
              "<Figure size 640x480 with 1 Axes>"
            ]
          },
          "metadata": {},
          "output_type": "display_data"
        }
      ],
      "source": [
        "w = L_solve(L,f)\n",
        "u = U_solve(U,w)\n",
        "\n",
        "_ = plt.plot(x,u,'ro')\n",
        "_ = plt.plot(x,u_ex)"
      ]
    },
    {
      "cell_type": "markdown",
      "metadata": {
        "collapsed": true,
        "id": "c72acFS0xo5Q"
      },
      "source": [
        "#### try to compute the solution $u(x)$ with different forcing terms and compare with the exact solution **without recomputing the LU decomposition**"
      ]
    },
    {
      "cell_type": "code",
      "execution_count": null,
      "metadata": {
        "id": "33YGPE3xxo5Q"
      },
      "outputs": [],
      "source": [
        "# YOUR CODE HERE"
      ]
    }
  ],
  "metadata": {
    "anaconda-cloud": {},
    "colab": {
      "provenance": []
    },
    "kernelspec": {
      "display_name": "Python 3.10.6 64-bit",
      "language": "python",
      "name": "python3"
    },
    "language_info": {
      "codemirror_mode": {
        "name": "ipython",
        "version": 3
      },
      "file_extension": ".py",
      "mimetype": "text/x-python",
      "name": "python",
      "nbconvert_exporter": "python",
      "pygments_lexer": "ipython3",
      "version": "3.10.6"
    },
    "vscode": {
      "interpreter": {
        "hash": "31f2aee4e71d21fbe5cf8b01ff0e069b9275f58929596ceb00d14d90e3e16cd6"
      }
    }
  },
  "nbformat": 4,
  "nbformat_minor": 0
}
