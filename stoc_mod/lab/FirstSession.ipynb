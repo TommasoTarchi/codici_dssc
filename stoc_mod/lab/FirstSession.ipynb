{
  "cells": [
    {
      "attachments": {},
      "cell_type": "markdown",
      "id": "aa8868cd",
      "metadata": {
        "id": "aa8868cd"
      },
      "source": [
        "# First Session of Stochastic Modelling\n",
        "[![Open in Colab](https://colab.research.google.com/assets/colab-badge.svg)](https://colab.research.google.com/github/guglielmopadula/StochasticModelling2022-2023/blob/main/FirstSession.ipynb)\n",
        "\n",
        "## Part 1: A very fast recap of Probability\n",
        "\n",
        "From Wikipedia:\n",
        "\n",
        "The **probability** of an event is a number that indicates how likely the event is to occur.\n",
        "\n",
        "### Basic rules of probability:\n",
        "\n",
        "$P(A\\cup B)+P(A\\cap B)=P(A)+P(B) \\quad \\forall A,B \\in \\Omega$\n",
        "\n",
        "$0 \\le P(A)\\le 1 \\quad \\forall A \\in \\Omega$ \n",
        "\n",
        "$P(A|B)P(B)=P(A\\cap B) \\quad \\forall A,B \\in \\Omega$ (Bayes law)\n",
        "\n",
        "$P(A)=P(A|B)P(B)+P(A|B^{C})P(B^{C}) \\quad \\forall A,B \\in \\Omega$ (law of total probability)\n",
        "\n",
        "$P(B^{C})=1-P(B) \\quad \\forall B\\in \\Omega$\n",
        "\n",
        "If $A$ and $B$ are independent we have $$P(A \\cap B)= P(A)P(B) \\quad \\forall A,B \\in \\Omega$$\n",
        "\n",
        "### A realistic exercise\n",
        "\n",
        "Let's do a very basic exercise (which I actually did in the last year):\n",
        "\n",
        "It is known from the academic year 2020-2021 that a student who does his Stochastic Modelling homeworks has a chance of 90 percent to get a very good grade (between $27$ and $30$); but the chance drops to 75 percent if he doesn't do the homeworks.\n",
        "Guglielmo has been very busy with other courses and figures out that he has only a 69 percent chance of doing the homeworks.\n",
        "What are his chances of not getting a very good grade in the course?\n",
        "\n",
        "Answer:\n",
        "There are two important events under discussion. Let us name them.\n",
        "\n",
        "$E$ : doing homeworks.\n",
        "\n",
        "$F$ : getting a very good grade.\n",
        "\n",
        "We know that $P(F|E)=0.9$, $P(F|E^{C})=0.75$ and $P(E)=0.69$\n",
        "\n",
        "The solution is to use the law of total probability.\n",
        "\n",
        "$P(F)=P(F|E)P(E)+P(F|E^{C})P(E^{C})$\n",
        "\n",
        "## Part 2: A very fast recap of Random Variables\n",
        "\n",
        "- A random variable is function $X: \\Omega \\rightarrow \\mathbb{R}$ \n",
        "- A random variable is characterized by it's cumulative density function $F(x)=P(X\\le x)$.\n",
        "- A discrete random variable has a countable support and it is characterized by it's probability mass function $P(X=x)=F(x)-F(X=\\max_{y\\in X|F(y)< F(x)} y)$.\n",
        "- A continous random variable has a noncountable support and is characterized by it's density function $f(x)=\\frac{dF}{dx}$\n",
        "\n",
        "The most important properties of a random variable are the moments\n",
        "- non central moments: $E[X^{k}]=\\int_{Im(X)}y^{k}f(y)dy$ if the variable is continuous or $E[X^{k}]=\\sum_{y \\in Im(x)}y^{k}f(y)$ if the variable is discrete\n",
        "- central moments: $E[(X-E[X])^{k}]=\\int_{Im(X)}(y-E[X])^{k}f(y)dy$ if the variable is continuous or $E[X^{k}]=\\sum_{y \\in Im(x)}(y-E[X])^{k}f(y)$ if the variable is discrete\n",
        "- marginalization: $f(x)=\\int_{Im(Y)}f(x,y)dy$ for continuos random variables and $P(X=x)=\\sum_{Im(Y)}P(X=x,Y=y)$\n",
        "- conditioning $f(x|y)=\\frac{f(x,y)}{f(y)}$ for continous random variables and $P(X=x|Y=y)=\\frac{P(X=x,Y=y)}{P(Y=y)}$ for discrete random variables\n",
        "\n",
        "Examples of r.v:\n",
        "- continuous: Gaussian, Exponential, Beta, UniformContinous\n",
        "- discrete: Bernoulli, Binomial, Poisson\n",
        "\n",
        "\n",
        "Properties of mean and variance:\n",
        "$E[aX+bY]=aE[X]+bE[Y]$\n",
        "$Var[aX]=a^{2}Var[X]$\n",
        "$Var[X+Y]=Var[X]+Var[Y]+2Cov(X,Y)$\n",
        "\n",
        "Some random variables are identically distributed if they have the same cdf/pdf/pgh.\n",
        "There are two very important theorems in probability. Let's assume that we have a set of i.i.d  random variables $X_{i}$ with finite mean and variance, then:\n",
        "- Central limit theorem: $$\\frac{\\sum\\limits_{i=1}^{n} X_{i}-nE[X]}{\\sqrt{nVar[X]}}\\rightarrow Normal(0,1)$$\n",
        "- Law of large numbers: $$\\frac{\\sum\\limits_{i=1}^{n} X_{i}}{n}\\rightarrow E[X]$$\n",
        "\n",
        "## A coin tossing (AKA Monte Carlo Integral)\n",
        "Let's suppose we want to see if a coin is balanced. We may use random variables. We may toss a coin a lot of times and assign to a random variable the value 1 is we get head and the value 0 if we get tail. So we get a binary variable, which is usually called Bernoulli random variable. \n",
        "$$X=\\begin{cases} 1 \\text{ with probability } p \\\\\n",
        "0 \\text{ with probability } 1-p \\end{cases}$$\n",
        "\n",
        "An important property of a Bernoulli random variable is that $E[X]=0*(1-p)+1*p=p$\n",
        "\n",
        "Our coin is balanced if and only if we have $p=0.5$.\n",
        "\n",
        "As tossing a coin is slow (and I only have one hour) we are going to simulate the tosses using scipy."
      ]
    },
    {
      "cell_type": "code",
      "execution_count": null,
      "id": "24f785fd",
      "metadata": {
        "id": "24f785fd",
        "outputId": "0da3e389-781d-4d28-c198-a3b57eeba7aa"
      },
      "outputs": [
        {
          "name": "stdout",
          "output_type": "stream",
          "text": [
            "Tail\n"
          ]
        }
      ],
      "source": [
        "#!pip  numpy matplotlib scipy dill\n",
        "from scipy.stats import bernoulli #basic python importing\n",
        "from tqdm import trange #Very useful function that you probably don't know\n",
        "class TossingMachine():\n",
        "    def __init__(self):\n",
        "        self.p=0.5\n",
        "        self.dist=bernoulli\n",
        "    \n",
        "    def toss(self):\n",
        "        a=self.dist.rvs(self.p)\n",
        "        if a==1:\n",
        "            return \"Head\"\n",
        "        else:\n",
        "            return \"Tail\"\n",
        "\n",
        "tossing_machine=TossingMachine()\n",
        "print(tossing_machine.toss())"
      ]
    },
    {
      "cell_type": "markdown",
      "id": "c8adad7e",
      "metadata": {
        "id": "c8adad7e"
      },
      "source": [
        "To see if our virtual coin is balanced or not we may toss a lot of times and then calculate the sample avarage. \n",
        "The sample average will approximate our probability $p$ because of the law of large numbers.\n"
      ]
    },
    {
      "cell_type": "code",
      "execution_count": null,
      "id": "8a9e1b8c",
      "metadata": {
        "id": "8a9e1b8c",
        "outputId": "c8cd2fb2-a689-4e44-aad7-1d2ac6c73aaf"
      },
      "outputs": [
        {
          "name": "stderr",
          "output_type": "stream",
          "text": [
            "100%|████████████████████████████████████████████████████████████████████████████████████████████████████████████| 100000/100000 [00:03<00:00, 25901.15it/s]"
          ]
        },
        {
          "name": "stdout",
          "output_type": "stream",
          "text": [
            "the estimated probability is  0.49794\n"
          ]
        },
        {
          "name": "stderr",
          "output_type": "stream",
          "text": [
            "\n"
          ]
        },
        {
          "data": {
            "text/plain": [
              "[<matplotlib.lines.Line2D at 0x7fb3550aa5e0>]"
            ]
          },
          "execution_count": 7,
          "metadata": {},
          "output_type": "execute_result"
        },
        {
          "data": {
            "image/png": "[encoded data removed]",
            "text/plain": [
              "<Figure size 640x480 with 1 Axes>"
            ]
          },
          "metadata": {},
          "output_type": "display_data"
        }
      ],
      "source": [
        "X=[] #inizialization of the list\n",
        "import numpy as np\n",
        "import matplotlib.pyplot as plt\n",
        "NUM_SAMPLES=100000\n",
        "for i in trange(NUM_SAMPLES):\n",
        "    tmp=tossing_machine.toss()\n",
        "    if tmp==\"Head\":\n",
        "        X.append(1)\n",
        "    else:\n",
        "        X.append(0)\n",
        "\n",
        "print(\"the estimated probability is \", sum(X)/NUM_SAMPLES)\n",
        "avarage_mean=np.cumsum(X)/np.cumsum(np.ones(NUM_SAMPLES))\n",
        "plt.plot(np.arange(NUM_SAMPLES)+1,avarage_mean)"
      ]
    },
    {
      "cell_type": "markdown",
      "id": "dda3db64",
      "metadata": {
        "id": "dda3db64"
      },
      "source": [
        "We got a value near $0.5$. So we are happy :-) ."
      ]
    },
    {
      "cell_type": "markdown",
      "id": "93b6224f",
      "metadata": {
        "id": "93b6224f"
      },
      "source": [
        "## The queen of all r.v: the Gaussian R.V. \n",
        "### but republic is approaching ....\n"
      ]
    },
    {
      "cell_type": "markdown",
      "id": "08afd764",
      "metadata": {
        "id": "08afd764"
      },
      "source": [
        "The Gaussian distribution is characterized by it's mean $\\mu$ and it's variance $\\sigma^{2}$.\n",
        "It has the following pdf\n",
        "$$\n",
        "f(x)=\\frac{1}{\\sqrt{2\\pi}\\sigma}e^{-(\\frac{x-\\mu}{\\sigma})^{2}}$$\n",
        "The parameter $\\sigma$ is called standard deviation. \n",
        "The Gaussian distribution is particulary important because of the following two properties:\n",
        "- it is the limit distribution of the central limit theorem\n",
        "- it is the only distribution with finite variance such that all linear combinations of **independent** random variables from it's distribution have it's distribution:\n",
        "$$ X_{i}\\sim N(\\mu_{i},\\sigma_{i}^{2})$$ \n",
        "$$\\sum_{i=1}^{n} a_{i}X_{i}\\sim N(\\sum\\limits_{i=1}^{n} a_{i}\\mu_{i},\\sum\\limits_{i=1}^{n} a_{i}^{2}\\sigma_{i}^{2})$$\n",
        "These two properties are strongly linked with each other, for a proof of this I invite to follow the course of Information Theory.\n",
        "\n",
        "Let's now look at scipy stats function.\n"
      ]
    },
    {
      "cell_type": "code",
      "execution_count": null,
      "id": "019bf0bb",
      "metadata": {
        "id": "019bf0bb",
        "outputId": "ace27a29-f350-4e45-dd79-65626c8aee23"
      },
      "outputs": [
        {
          "name": "stdout",
          "output_type": "stream",
          "text": [
            "P(X<=0) is,  0.4012936743170763\n",
            "Variance of X is 16.0\n",
            "Mean of X is 1.0\n",
            "f(0) is 0.09666702920071232\n",
            "Sampling from Normal is -1.5705329900003977\n"
          ]
        }
      ],
      "source": [
        "from scipy.stats import norm #normal random variable\n",
        "distribution=norm(1,4) #mean=1, standard deviation=4,not variance!!!\n",
        "print(\"P(X<=0) is, \",distribution.cdf(0))\n",
        "print(\"Variance of X is\", distribution.var())\n",
        "print(\"Mean of X is\", distribution.mean())\n",
        "print(\"f(0) is\",distribution.pdf(0))\n",
        "print(\"Sampling from Normal is\", distribution.rvs())"
      ]
    },
    {
      "cell_type": "markdown",
      "id": "eb70331d",
      "metadata": {
        "id": "eb70331d"
      },
      "source": [
        "What is the standard deviation of the sum of two independent normal random variable of standard deviation 3 and 4? 5 because you have to do $\\sqrt{3^{2}+4^{2}}=5$"
      ]
    },
    {
      "cell_type": "markdown",
      "id": "e605a076",
      "metadata": {
        "id": "e605a076"
      },
      "source": [
        "## Notable discrete random variables\n",
        "$$\n",
        "\\begin{array}{|c|c|c|c|c|c|}\n",
        "\\hline x & x \\text { Counts } & P.M.F & \\text { Values of } X & E(x) & V(x) \\\\\n",
        "\\hline \\begin{array}{l}\n",
        "\\text { Discrete } \\\\\n",
        "\\text { uniform }\n",
        "\\end{array} & \\begin{array}{l}\n",
        "\\text { Outcomes that are } \\\\\n",
        "\\text { equally likely (finite) }\n",
        "\\end{array} & \\frac{1}{b-a+1} & a \\leq x \\leq b & \\frac{b+a}{2} & \\frac{(b-a+2)(b-a)}{12} \\\\\n",
        "\\hline \\text { Bernoulli } & \\begin{array}{l}\n",
        "\\text { Number of sucesses } \\\\\n",
        "\\text { in }  \\text { 1 fixed trial }\n",
        "\\end{array} & \\left(\\begin{array}{l}\n",
        "n \\\\\n",
        "x\n",
        "\\end{array}\\right) p^{x}(1-p)^{1-x} & x=0,1 & p & p(1-p) \\\\\n",
        "\\hline \\text { Binomial } & \\begin{array}{l}\n",
        "\\text { Number of sucesses } \\\\\n",
        "\\text { in } n \\text { fixed trials }\n",
        "\\end{array} & \\left(\\begin{array}{l}\n",
        "n \\\\\n",
        "x\n",
        "\\end{array}\\right) p^x(1-p)^{n-x} & x=0,1, \\ldots, n & np & n p(1-p) \\\\\n",
        "\\hline \\text { Poisson } & \\begin{array}{l}\n",
        "\\text { Number of arrivals in } \\\\\n",
        "\\text { a fixed time period }\n",
        "\\end{array} & \\frac{e^{-\\lambda} \\lambda^x}{x !} & x=0,1,2, \\ldots & \\lambda & \\lambda \\\\\n",
        "\\hline \\text { Geometric } & \\begin{array}{l}\n",
        "\\text { Number of trials up } \\\\\n",
        "\\text { through 1st success }\n",
        "\\end{array} & (1-p)^{x-1} p & x=1,2,3, \\ldots & \\frac{1}{p} & \\frac{1-p}{p^2} \\\\\n",
        "\\hline \\begin{array}{l}\n",
        "\\text { Negative } \\\\\n",
        "\\text { Binomial }\n",
        "\\end{array} & \\begin{array}{l}\n",
        "\\text { Number of trials up } \\\\\n",
        "\\text { through kth success }\n",
        "\\end{array} & \\left(\\begin{array}{l}\n",
        "x-1 \\\\\n",
        "k-1\n",
        "\\end{array}\\right)(1-p)^{x-k} p^k & 0^k \\quad x=k, k+1, \\ldots & \\frac{k}{p} & \\frac{k(1-p)}{p^2} \\\\\n",
        "\\hline \\begin{array}{c}\n",
        "\\text { Hyper - } \\\\\n",
        "\\text { geometric }\n",
        "\\end{array} & \\begin{array}{l}\n",
        "\\text { Number of marked } \\\\\n",
        "\\text { individuals in } \\\\\n",
        "\\text { sample taken } \\\\\n",
        "\\text { without replacement }\n",
        "\\end{array} & \\frac{\\left(\\begin{array}{l}\n",
        "M \\\\\n",
        "x\n",
        "\\end{array}\\right)\\left(\\begin{array}{l}\n",
        "N-M \\\\\n",
        "n-x\n",
        "\\end{array}\\right)}{(N)} & \\begin{array}{c}\n",
        "\\max (0, M+n-N) \\\\\n",
        "\\leq x \\leq \\min (M, n)\n",
        "\\end{array} & n * \\frac{M}{N} & \\frac{\\mathrm{nM}(N-M)(N-n)}{N^2(N-1)} \\\\\n",
        "\\hline\n",
        "\\end{array}\n",
        "$$\n",
        "\n",
        "## Notable Continous distribution\n",
        "$$\n",
        "\\begin{array}{cccccc}\n",
        "\\hline X & X \\text { Measures } & P.D.F & \\text { Values of } X & E(x) & \\boldsymbol{V}(\\mathbf{x}) \\\\\n",
        "\\hline \\begin{array}{c}\n",
        "\\text { Continuous } \\\\\n",
        "\\text { uniform }\n",
        "\\end{array} & \\begin{array}{c}\n",
        "\\text { Outcomes with equal } \\\\\n",
        "\\text { density (continuous) }\n",
        "\\end{array} & \\frac{1}{\\mathrm{~b}-\\mathrm{a}} & \\mathrm{a} \\leq \\mathrm{x} \\leq \\mathrm{b} & \\frac{\\mathrm{b}+\\mathrm{a}}{2} & \\frac{(\\mathrm{b}-\\mathrm{a})^2}{12} \\\\\n",
        "\\hline \\text { Exponential } & \\begin{array}{c}\n",
        "\\text { Time between events; } \\\\\n",
        "\\text { time until an event }\n",
        "\\end{array} & \\lambda \\mathrm{e}^{-\\lambda x} & x \\geq 0 & \\frac{1}{\\lambda} & \\frac{1}{\\lambda^2} \\\\\n",
        "\\hline \\text { Erlang } & \n",
        "\\text { time until k events occur}\n",
        " & \\frac{\\lambda^k x^{k-1} e^{-\\lambda x}}{(k-1) !} & x \\geq 0 & \\frac{k}{\\lambda} & \\frac{k}{\\lambda^2} \\\\\n",
        "\\hline \\text { Normal } & \\begin{array}{c}\n",
        "\\text { Values with a bell-shaped } \\\\\n",
        "\\text { distribution (continuous) }\n",
        "\\end{array} & \\frac{1}{\\sigma \\sqrt{2 \\pi}} \\mathrm{e}^{-\\frac{1}{2}\\left(\\frac{x-\\mu}{\\sigma}\\right)^2} & -\\infty<\\mathrm{x}<\\infty & \\mu & \\sigma \\\\\n",
        "\\hline \\text { Beta } & \n",
        "\\text {order statistics}\n",
        " & \\frac{\\Gamma(\\alpha+\\beta)x^{\\alpha-1}(1-x)^{\\beta-1}}{\\Gamma(\\alpha)\\Gamma(\\beta)}& 0 \\le x \\le 1 &\\frac{\\alpha}{\\alpha+\\beta} & \\frac{\\alpha \\beta}{(\\alpha+\\beta)^2(\\alpha+\\beta+1)}\\\\\n",
        "\\hline \\text { Gamma } & \n",
        "\\text {I have no idea}\n",
        " & \\frac{1}{\\Gamma(k) \\theta^k} x^{k-1} e^{-\\frac{x}{\\theta}}& x\\ge 0 &k\\theta & k\\theta^{2}\\\\\n",
        "\\hline\n",
        "\\end{array}\n",
        "$$\n"
      ]
    },
    {
      "cell_type": "markdown",
      "id": "f5a7c229",
      "metadata": {
        "id": "f5a7c229"
      },
      "source": [
        "## Histogram and Kernel Density Estimation"
      ]
    },
    {
      "cell_type": "markdown",
      "id": "ce678870",
      "metadata": {
        "id": "ce678870"
      },
      "source": [
        "Suppose that you have a blackbox random variable from which you can sample and you want to estimate it's pdf.\n",
        "\n",
        "You could start by plotting the histogram. To plot an histogram we need to choose a number of bins:\n",
        "- with a small number of bins there is a very low resolution\n",
        "- with a high number of bins there is a lot of variance"
      ]
    },
    {
      "cell_type": "code",
      "execution_count": null,
      "id": "10f85556",
      "metadata": {
        "id": "10f85556",
        "outputId": "ee2c5ad7-dd78-441e-ef52-a01949b81856"
      },
      "outputs": [
        {
          "data": {
            "image/png": "[encoded data removed]",
            "text/plain": [
              "<Figure size 640x480 with 1 Axes>"
            ]
          },
          "metadata": {},
          "output_type": "display_data"
        }
      ],
      "source": [
        "import dill\n",
        "import scipy\n",
        "import matplotlib.pyplot as plt\n",
        "blackboxrv=dill.load(open( \"blackbox.p\", \"rb\" ))\n",
        "dataset=blackboxrv.sample(50000)\n",
        "a=plt.hist(dataset,density=True,bins=2)"
      ]
    },
    {
      "cell_type": "code",
      "execution_count": null,
      "id": "e9b9f2da",
      "metadata": {
        "id": "e9b9f2da",
        "outputId": "998e8eac-ac9d-4e7c-9507-b72defa80ca5"
      },
      "outputs": [
        {
          "data": {
            "image/png": "[encoded data removed]",
            "text/plain": [
              "<Figure size 640x480 with 1 Axes>"
            ]
          },
          "metadata": {},
          "output_type": "display_data"
        }
      ],
      "source": [
        "dataset=blackboxrv.sample(50000)\n",
        "a=plt.hist(dataset,density=True,bins=10000)"
      ]
    },
    {
      "cell_type": "code",
      "execution_count": null,
      "id": "eee38f68",
      "metadata": {
        "id": "eee38f68",
        "outputId": "38ba24ef-c085-436a-d310-fa0886b5bd22"
      },
      "outputs": [
        {
          "data": {
            "image/png": "[encoded data removed]",
            "text/plain": [
              "<Figure size 640x480 with 1 Axes>"
            ]
          },
          "metadata": {},
          "output_type": "display_data"
        }
      ],
      "source": [
        "dataset=blackboxrv.sample(50000)\n",
        "a=plt.hist(dataset,density=True,bins=\"scott\") #use scott optimal binning"
      ]
    },
    {
      "cell_type": "markdown",
      "id": "256bacc4",
      "metadata": {
        "id": "256bacc4"
      },
      "source": [
        "The random variable is clearly bimodal. Let's try to estimate the pdf using a KDE estimation, which basically interpolates using a lot of gaussian distributions using kernels (for details in this technique see the Unsupervised Learning course)."
      ]
    },
    {
      "cell_type": "code",
      "execution_count": null,
      "id": "59957ab6",
      "metadata": {
        "id": "59957ab6",
        "outputId": "320393fd-5de2-4018-8a22-fedbae98cc33"
      },
      "outputs": [
        {
          "data": {
            "image/png": "[encoded data removed]",
            "text/plain": [
              "<Figure size 640x480 with 1 Axes>"
            ]
          },
          "metadata": {},
          "output_type": "display_data"
        }
      ],
      "source": [
        "import numpy as np\n",
        "epsilon=0.01\n",
        "kde=scipy.stats.gaussian_kde(dataset)\n",
        "a=plt.hist(dataset,density=True,bins=\"scott\")\n",
        "x=np.min(dataset)-epsilon+(np.max(dataset)-np.min(dataset)+2*epsilon)*np.arange(1000)/1000\n",
        "b=plt.plot(x,kde.pdf(x))"
      ]
    },
    {
      "cell_type": "markdown",
      "id": "9681b588",
      "metadata": {
        "id": "9681b588"
      },
      "source": [
        "The KDE estimate is good.\n",
        "\n",
        "Why is the probability of -0.5 greater then one? Because this is the pdf and it's not a probability."
      ]
    },
    {
      "cell_type": "code",
      "execution_count": null,
      "id": "21802f4a",
      "metadata": {
        "id": "21802f4a"
      },
      "outputs": [],
      "source": []
    }
  ],
  "metadata": {
    "colab": {
      "provenance": []
    },
    "kernelspec": {
      "display_name": "Python 3 (ipykernel)",
      "language": "python",
      "name": "python3"
    },
    "language_info": {
      "codemirror_mode": {
        "name": "ipython",
        "version": 3
      },
      "file_extension": ".py",
      "mimetype": "text/x-python",
      "name": "python",
      "nbconvert_exporter": "python",
      "pygments_lexer": "ipython3",
      "version": "3.9.16"
    }
  },
  "nbformat": 4,
  "nbformat_minor": 5
}
