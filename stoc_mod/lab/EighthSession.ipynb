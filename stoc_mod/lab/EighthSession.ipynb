{
  "cells": [
    {
      "attachments": {},
      "cell_type": "markdown",
      "id": "a97ac065",
      "metadata": {
        "id": "a97ac065"
      },
      "source": [
        "# Eighth Session of Stochastic Modelling\n",
        "\n",
        "[![Open in Colab](https://colab.research.google.com/assets/colab-badge.svg)](https://colab.research.google.com/github/guglielmopadula/StochasticModelling2022-2023/blob/main/EightSession.ipynb)\n",
        "\n",
        "## A very fast recap on the Gillespie Algorithm\n",
        "\n",
        "Let's suppose we have a CTMC $X_{t}$ with rate matrix $Q$ and initial state $X_{0}$. To simulate it is necessary to build the jump matrix $A$ which has components\n",
        "$$a_{ii}=0$$\n",
        "$$a_{ij}=-\\frac{q_{ij}}{q_{ii}}$$\n",
        "Note that $$\\sum_{j=1}^{n}a_{ij}=1$$\n",
        "With this we can write the Gillespie algoritm:\n"
      ]
    },
    {
      "cell_type": "code",
      "execution_count": 1,
      "id": "5fd49644",
      "metadata": {
        "id": "5fd49644",
        "outputId": "1ff3d4c0-2b09-48f7-9d25-004008c47b26"
      },
      "outputs": [
        {
          "data": {
            "text/plain": [
              "'\\nPSEUDOCODE\\ndef Gillespie():\\n    $t=0$\\n    $X=X_{0}$\\n    while:\\n        draw deltat from Exponential(Q[x])\\n        t=d+delta t\\n        draw x from Categorical(A[x])\\n        save (t,x)\\n'"
            ]
          },
          "execution_count": 1,
          "metadata": {},
          "output_type": "execute_result"
        }
      ],
      "source": [
        "\n",
        "'''\n",
        "PSEUDOCODE\n",
        "def Gillespie():\n",
        "    $t=0$\n",
        "    $X=X_{0}$\n",
        "    while:\n",
        "        draw deltat from Exponential(Q[x])\n",
        "        t=d+delta t\n",
        "        draw x from Categorical(A[x])\n",
        "        save (t,x)\n",
        "'''"
      ]
    },
    {
      "attachments": {},
      "cell_type": "markdown",
      "id": "54f36ec7",
      "metadata": {
        "id": "54f36ec7"
      },
      "source": [
        "### Exercise\n",
        "- Using scipy.linalg.expm write an algorithm to compute the marginal probability of the CTMC at time t (not the conditional)\n",
        "- Write the python code of the gillespie algorithm \n",
        "- Simulate the marginal probability and the gillespie algorithm for the CTMC associated to the matrix \n",
        "$$\\begin{bmatrix} -1 & 1  \\\\ \n",
        " 2  & -2  \\end{bmatrix}$$\n",
        " \n",
        " \n",
        "### Solution"
      ]
    },
    {
      "cell_type": "code",
      "execution_count": 2,
      "id": "2dc02a2a",
      "metadata": {
        "id": "2dc02a2a"
      },
      "outputs": [],
      "source": [
        "\n",
        "\n",
        "import numpy as np\n",
        "import scipy\n",
        "import matplotlib.pyplot as plt\n",
        "\n",
        "\n",
        "def CTMCsteadystate_probability(Q,p0,t):\n",
        "  l=[]\n",
        "  for i in t:\n",
        "    p=p0@scipy.linalg.expm(Q*i) \n",
        "    l.append(p)\n",
        "  return np.array(l)\n",
        "\n",
        "\n",
        "def CtmcSimulation(Q,x0,max_time):\n",
        "  A=Q.copy()\n",
        "  np.fill_diagonal(A,0)\n",
        "  A=(A.T/(np.sum(A,axis=1))).T\n",
        "  times=[]\n",
        "  states=[]\n",
        "  tot_time=0\n",
        "  times.append(tot_time)\n",
        "  x=x0\n",
        "  states.append(x)\n",
        "  while tot_time<max_time:\n",
        "    t=scipy.stats.expon(scale=-1/Q[x0,x0]).rvs(size=1)[0]\n",
        "    tot_time=tot_time+t\n",
        "    times.append(tot_time)\n",
        "    states.append(x)\n",
        "    x=np.random.choice(len(A),p=A[x])\n",
        "    times.append(tot_time)\n",
        "    states.append(x)\n",
        "  return times,states\n"
      ]
    },
    {
      "cell_type": "code",
      "execution_count": 3,
      "id": "d093201f",
      "metadata": {
        "id": "d093201f"
      },
      "outputs": [],
      "source": [
        "A=np.array([[-1,1],[2,-2]])\n",
        "p0=np.array([0.5,0.5])"
      ]
    },
    {
      "cell_type": "code",
      "execution_count": 4,
      "id": "32729d84",
      "metadata": {
        "id": "32729d84",
        "outputId": "aed13e32-b108-4f32-ac3a-8de586783f89"
      },
      "outputs": [
        {
          "data": {
            "text/plain": [
              "[<matplotlib.lines.Line2D at 0x7f4de6f25600>,\n",
              " <matplotlib.lines.Line2D at 0x7f4de6f25660>]"
            ]
          },
          "execution_count": 4,
          "metadata": {},
          "output_type": "execute_result"
        },
        {
          "data": {
            "image/png": "[encoded data removed]",
            "text/plain": [
              "<Figure size 640x480 with 1 Axes>"
            ]
          },
          "metadata": {},
          "output_type": "display_data"
        }
      ],
      "source": [
        "t=np.linspace(0,50,100)\n",
        "p=CTMCsteadystate_probability(A,p0,t)\n",
        "plt.plot(t,p)\n"
      ]
    },
    {
      "cell_type": "code",
      "execution_count": 5,
      "id": "9953b341",
      "metadata": {
        "id": "9953b341",
        "outputId": "a483cb30-b272-457b-eeb1-a7ccefc1d22f"
      },
      "outputs": [
        {
          "data": {
            "text/plain": [
              "[<matplotlib.lines.Line2D at 0x7f4de31da410>]"
            ]
          },
          "execution_count": 5,
          "metadata": {},
          "output_type": "execute_result"
        },
        {
          "data": {
            "image/png": "[encoded data removed]",
            "text/plain": [
              "<Figure size 640x480 with 1 Axes>"
            ]
          },
          "metadata": {},
          "output_type": "display_data"
        }
      ],
      "source": [
        "t,s=CtmcSimulation(A,0,50)\n",
        "plt.plot(t,s)\n"
      ]
    }
  ],
  "metadata": {
    "colab": {
      "provenance": []
    },
    "kernelspec": {
      "display_name": "Python 3 (ipykernel)",
      "language": "python",
      "name": "python3"
    },
    "language_info": {
      "codemirror_mode": {
        "name": "ipython",
        "version": 3
      },
      "file_extension": ".py",
      "mimetype": "text/x-python",
      "name": "python",
      "nbconvert_exporter": "python",
      "pygments_lexer": "ipython3",
      "version": "3.10.9"
    }
  },
  "nbformat": 4,
  "nbformat_minor": 5
}
