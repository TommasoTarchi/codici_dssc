{
  "cells": [
    {
      "attachments": {},
      "cell_type": "markdown",
      "metadata": {
        "id": "uteb4GCLArUI"
      },
      "source": [
        "# Seventh Session of Stochastic Modelling\n",
        "\n",
        "[![Open in Colab](https://colab.research.google.com/assets/colab-badge.svg)](https://colab.research.google.com/github/guglielmopadula/StochasticModelling2022-2023/blob/main/SeventhSession.ipynb)\n",
        "\n",
        "## A very fast recap on CTMC\n",
        "\n",
        "A rate matrix is a matrix $\\theta$ such that $\\theta_{ij}\\ge 0 \\forall i\\neq j$, $\\theta_{ii}=-\\sum_{j}\\theta_{ij}$.\n",
        "\n",
        "A finite state space CTMC is a stochastic process characterized by a rate matrix $$\\theta$$ which has as\n",
        "probability the probability transition matrix $ \\mathcal{P}(t)=\\{P(X(t)=j|X(0)=i)\\}_{ij} $ described by the following ODE \n",
        "$$\n",
        "\\begin{cases}\n",
        "\\dot{\\mathcal{P}}=\\mathcal{P} \\theta\\\\\\mathcal{P}(0)=1_{S\\times S}\n",
        "\\end{cases}\n",
        "$$. \n",
        "It can be proven that the only solution to this equation is the matrix exponential\n",
        "$$\n",
        "P(t)=e^{\\theta t}:=\\sum_{n=0}^{+\\infty} \\frac{(\\theta t)^{n}}{n!}\n",
        "$$\n",
        "If the matrix $\\theta$ is diagonalizable, i.e it admits a decomposition $V\\Lambda V^{T}$ then it can be proven that $Ve^{\\Lambda t}V^{T}$ where $e^{\\Lambda t}$ is a diagonal matrix with diagonal elements $e^{\\lambda_{i}t}$.\n",
        "If a matrix is not diagonalizable, there two ways to compute it:\n",
        "- Use the package scipy.linalg.expm to compute an approximation\n",
        "- Solve the differential equation using scipy.odeint\n",
        "\n",
        "### Exercise 1\n",
        "Let \n",
        "$$\n",
        "A=\\left(\\begin{array}{ccc}\n",
        "-2 & 1 & 1 \\\\\n",
        "1 & -4 & 3 \\\\\n",
        "1 & 3 & -4\n",
        "\\end{array}\\right)\n",
        "$$.\n",
        "\n",
        "This matrix symmetric, so it is diagonalizable.\n",
        "\n",
        "Compute the matrix exponential using the three methods above.\n",
        "\n",
        "Compare the approximate solutions with the true solution.\n",
        "\n",
        "## Solution\n"
      ]
    },
    {
      "cell_type": "code",
      "execution_count": 1,
      "metadata": {
        "id": "obADg4E_AtAn",
        "outputId": "23693f07-3bd5-4715-89c7-97f710805556"
      },
      "outputs": [
        {
          "name": "stdout",
          "output_type": "stream",
          "text": [
            "expm error is 6.280369834735101e-16\n",
            "ode error is 1.6339113978201018e-09\n",
            "[0.00224543 0.00683904 0.05998254]\n",
            "[0.00043893 0.00035667 0.00035644]\n"
          ]
        },
        {
          "data": {
            "text/plain": [
              "<matplotlib.legend.Legend at 0x7fadb00f4b20>"
            ]
          },
          "execution_count": 1,
          "metadata": {},
          "output_type": "execute_result"
        },
        {
          "data": {
            "image/png": "[encoded data removed]",
            "text/plain": [
              "<Figure size 640x480 with 1 Axes>"
            ]
          },
          "metadata": {},
          "output_type": "display_data"
        }
      ],
      "source": [
        "import scipy\n",
        "import time\n",
        "import matplotlib.pyplot as plt\n",
        "import numpy as np\n",
        "A=np.array([[-2,1,1],[1,-4,3],[1,3,-4]])\n",
        "def eigen_method(A,t):\n",
        "  w,v=np.linalg.eig(A)\n",
        "  return v@np.diag(np.exp(w*t))@v.T\n",
        "\n",
        "def expm_method(A,t):\n",
        "  return scipy.linalg.expm(A*t)\n",
        "\n",
        "def ode_method(A,t):\n",
        "  def f(X,t):\n",
        "    X=X.reshape(A.shape[0],A.shape[0])\n",
        "    return (X@A).reshape(-1)\n",
        "  x0=np.eye(A.shape[0]).reshape(-1)\n",
        "  return scipy.integrate.odeint(f,x0,np.linspace(0,5,1000))[-1].reshape(A.shape[0],A.shape[0])\n",
        "\n",
        "\n",
        "print(\"expm error is\", np.linalg.norm(expm_method(A,5)-eigen_method(A,5)))\n",
        "print(\"ode error is\", np.linalg.norm(ode_method(A,5)-eigen_method(A,5)))\n",
        "\n",
        "def generate_transition_rate_matrix(N):\n",
        "  A=np.random.rand(N,N)\n",
        "  for i in range(N):\n",
        "    acc=0\n",
        "    for j in range(N):\n",
        "      if j!=i:\n",
        "        acc=acc+A[i,j]\n",
        "    A[i,i]=-acc\n",
        "  return A\n",
        "\n",
        "time_expm=np.zeros(3)\n",
        "time_ode=np.zeros(3)\n",
        "\n",
        "n=[5,10,20]\n",
        "for i in range(3):\n",
        "  A=generate_transition_rate_matrix(n[i])\n",
        "  start=time.time()\n",
        "  _=expm_method(A,5)\n",
        "  end=time.time()\n",
        "  time_expm[i]=end-start\n",
        "  start=time.time()\n",
        "  _=ode_method(A,5)\n",
        "  end=time.time()\n",
        "  time_ode[i]=end-start\n",
        "\n",
        "print(time_ode)\n",
        "print(time_expm)\n",
        "plt.plot([5,10,20],time_ode,label=\"ode\")\n",
        "plt.plot([5,10,20],time_expm,label=\"expm\")\n",
        "plt.legend()\n"
      ]
    }
  ],
  "metadata": {
    "colab": {
      "provenance": []
    },
    "kernelspec": {
      "display_name": "Python 3 (ipykernel)",
      "language": "python",
      "name": "python3"
    },
    "language_info": {
      "codemirror_mode": {
        "name": "ipython",
        "version": 3
      },
      "file_extension": ".py",
      "mimetype": "text/x-python",
      "name": "python",
      "nbconvert_exporter": "python",
      "pygments_lexer": "ipython3",
      "version": "3.10.9"
    }
  },
  "nbformat": 4,
  "nbformat_minor": 0
}
