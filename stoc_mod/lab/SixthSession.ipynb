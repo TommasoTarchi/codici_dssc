{
  "cells": [
    {
      "cell_type": "markdown",
      "id": "b39de4a4",
      "metadata": {
        "id": "b39de4a4"
      },
      "source": [
        "# Sixth Session of Stochastic Modelling\n",
        "[![Open in Colab](https://colab.research.google.com/assets/colab-badge.svg)](https://colab.research.google.com/github/guglielmopadula/StochasticModelling2022-2023/blob/main/SixthSession.ipynb)\n",
        "\n",
        "## The Ernfest model\n",
        "\n",
        "The Ehrenfest model (or dog–flea model) of diffusion was proposed by Tatiana and Paul Ehrenfest to explain the second law of thermodynamics.The discretized version of the model considers N particles in two containers.\n",
        "$$\\pi_{i,i-1}=i $$\n",
        "$$\\pi_{i,i+1}=N-i $$\n",
        "Model this markov chain (remember to normalize).\n"
      ]
    },
    {
      "attachments": {},
      "cell_type": "markdown",
      "id": "cf2d666f",
      "metadata": {
        "id": "cf2d666f"
      },
      "source": [
        "## Solution\n",
        "The normalization constant is easy.\n",
        "$$c=N-i+i=N$$\n",
        "for all $i$."
      ]
    },
    {
      "cell_type": "code",
      "execution_count": null,
      "id": "4529641b",
      "metadata": {
        "id": "4529641b"
      },
      "outputs": [],
      "source": [
        "import numpy as np\n",
        "def naive_stochastic_matrix(N):\n",
        "    matrix=np.zeros((N+1,N+1))\n",
        "    matrix[0,1]=N\n",
        "    matrix[N,N-1]=N\n",
        "    for i in range(1,N):\n",
        "        matrix[i,i-1]=i\n",
        "        matrix[i,i+1]=N-i\n",
        "    matrix=matrix/N\n",
        "    return matrix"
      ]
    },
    {
      "cell_type": "code",
      "execution_count": null,
      "id": "57c01b1a",
      "metadata": {},
      "outputs": [],
      "source": [
        "import pydtmc\n",
        "N=10\n",
        "matrix=naive_stochastic_matrix(N)\n",
        "naive_model=pydtmc.MarkovChain(matrix)\n",
        "print(naive_model)"
      ]
    }
  ],
  "metadata": {
    "colab": {
      "provenance": []
    },
    "kernelspec": {
      "display_name": "Python 3 (ipykernel)",
      "language": "python",
      "name": "python3"
    },
    "language_info": {
      "codemirror_mode": {
        "name": "ipython",
        "version": 3
      },
      "file_extension": ".py",
      "mimetype": "text/x-python",
      "name": "python",
      "nbconvert_exporter": "python",
      "pygments_lexer": "ipython3",
      "version": "3.9.16"
    }
  },
  "nbformat": 4,
  "nbformat_minor": 5
}
